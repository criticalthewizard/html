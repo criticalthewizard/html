{
 "cells": [
  {
   "cell_type": "markdown",
   "metadata": {},
   "source": [
    "<div align=\"right\">\n",
    "<a href=\"http://nbviewer.ipython.org/github/CSE-UHS/Web-Development/blob/master/Chapter00.ipynb\" align=\"right\"><h2>Table of Contents</h2></a>\n",
    "</div>"
   ]
  },
  {
   "cell_type": "markdown",
   "metadata": {},
   "source": [
    "# Chapter 17: Conditions"
   ]
  },
  {
   "cell_type": "markdown",
   "metadata": {},
   "source": [
    "## If Statements"
   ]
  },
  {
   "cell_type": "markdown",
   "metadata": {},
   "source": [
    "This chapter will seem very familiar if you remember your Python. Syntax is slightly different but can easily be figured out. The syntax is as follows:\n",
    "\n",
    "\n",
    "<center><h3>if (condition) {Statement}</h3></center>\n",
    "\n",
    "<img src=\"https://dl.dropboxusercontent.com/u/90219577/Hermon/CSE_Website/webdev/17/condition1.png\">\n",
    "\t\n",
    "\t"
   ]
  },
  {
   "cell_type": "markdown",
   "metadata": {},
   "source": [
    "## If - Else Statements"
   ]
  },
  {
   "cell_type": "markdown",
   "metadata": {},
   "source": [
    "This chapter will seem very familiar if you remember your Python. Syntax is slightly different but can easily be figured out. The syntax is as follows:\n",
    "\n",
    "\n",
    "<center><h3>if (condition){Statement} else {Statement}</h3></center>\n",
    "\n",
    "In the following example, we will use the month number in an <b>if-else</b> condition to find out what season it is:\n",
    "\n",
    "<img src=\"https://dl.dropboxusercontent.com/u/90219577/Hermon/CSE_Website/webdev/17/condition2.png\">\n",
    "\n",
    "As you can see, this condition is not a particularly smart condition - it only works when it's March!\n",
    "\n",
    "However, there are plenty of ways to improve the condition and make it more precise. Below are listed comparison operators that can be used in the condition. You will recognize most of them from Python.\n",
    "\n",
    "<h3>== Equals<br>\n",
    "&lt; Less than <br>\n",
    "&gt; Greater than<br>\n",
    "&lt;= Less than or equal to <br>\n",
    "&gt;= Greater than or equal to<br>\n",
    "!= Not equal to<br>\n",
    "</h3>\n",
    "\n",
    "In addition, there are some logical operators:\n",
    "\n",
    "<h3>\n",
    "&amp;&amp; And<br>\n",
    "|| Or<br>\n",
    "! Not</h3>\n",
    "\n",
    "The operators can be used to develop more precise conditions, so now we can expand the above example to include all the spring months:\n",
    "\t\n",
    "<img src=\"https://dl.dropboxusercontent.com/u/90219577/Hermon/CSE_Website/webdev/17/condition3.png\">\n",
    "\n",
    "Operators play a significant role in many different parts of PHP.\n",
    "\n",
    "But it still only works with March, April and May. All other months are not yet covered by the condition. So let's try to develop the condition a little more."
   ]
  },
  {
   "cell_type": "markdown",
   "metadata": {},
   "source": [
    "## Elseif"
   ]
  },
  {
   "cell_type": "markdown",
   "metadata": {},
   "source": [
    "Here is a tricky one to remember. (at least it was for me) In Python the syntax was <b>elif</b>. In PHP the syntax is <b>elseif</b>. I really wish they would have gotten together on this one!\n",
    "\n",
    "<img src=\"https://dl.dropboxusercontent.com/u/90219577/Hermon/CSE_Website/webdev/17/condition4.png\">\n",
    "\n",
    "To write conditions is all about thinking logically and being methodical. The example above is pretty straightforward, but conditions can get very complex."
   ]
  },
  {
   "cell_type": "markdown",
   "metadata": {},
   "source": [
    "## Switch-Case"
   ]
  },
  {
   "cell_type": "markdown",
   "metadata": {},
   "source": [
    "In most languages, there is an alternative to the <b>If-Else</b> structure called <b>Switch-Case</b>. The reason you might not have heard of it is because unfortunately, Python is one of the only languages without it. Python was a great starting language but unfortunately it might bias you towards always using the <b>If-Else</b> structure when most programmers use the <b>Switch-Case</b> method. I would recommend you give it a chance and try to become knowledgeable in it's syntax. I will provide a couple of examples below but here is more <a href=\"http://php.net/manual/en/control-structures.switch.php\" target=\"_blank\">documentation</a>.\n",
    "\n",
    "This method is based on an expression and then lists different \"answers\" or \"cases\" with related statements. Notice in the following example the <b>switch expression</b> is a variable which we can see is \"Voldemort\". The server checks through each <b>case</b> to see if one matches. If it does, the statement(s) within that case are executed. The <b>break;</b> statements are used to tell the server to not waste time checking any more of the <b>case</b> statements. If you want the server to continue to check <b>case</b> statements you could remove the <b>break;</b>. The final <b>case</b> is actually <b>default</b> and will execute if none of the previous <b>cases</b> are true.\n",
    "\n",
    "<img src=\"https://dl.dropboxusercontent.com/u/90219577/Hermon/CSE_Website/webdev/17/switch1.png\">\n",
    "\n",
    "As you may remember, the function date(\"w\") returns the current weekday in number form. We will use <b>Switch-Case</b> to write out the day of the week. This of course is a really STUPID way to do this since we can easily use the date function to return the written out date but it serves the purpose of demonstrating <b>Switch-Case</b>\n",
    "\n",
    "<img src=\"https://dl.dropboxusercontent.com/u/90219577/Hermon/CSE_Website/webdev/17/switch2.png\">\n",
    "\n",
    "As a final example, I included a <b>Switch-Case</b> in a <b>for( )</b> loop that counts from 1-100 by ones. You will notice that in the <b>switch( )</b> I simply put the boolean <b>True</b>. Each of the cases this time are actually expressions. If a <b>case</b> is <b>True</b> the statement will be executed. You might recognize this as the classic <b>Fizz-Buzz Test</b>.\n",
    "\n",
    "<img src=\"https://dl.dropboxusercontent.com/u/90219577/Hermon/CSE_Website/webdev/17/fizzbuzz.png\">"
   ]
  },
  {
   "cell_type": "markdown",
   "metadata": {},
   "source": [
    "## Commenting in PHP"
   ]
  },
  {
   "cell_type": "markdown",
   "metadata": {},
   "source": [
    "As you can see from the last example it is very easy to leave comments in PHP. Just use two backslashes <b>(//)</b> and then write your comment. Some of you have done a great job this year training yourselves to be diligent about commenting your code. Some of you, however are a lot like me and not very good at it. Never fear! You might not be able to have a profession and make lots of money in Computer Science but you can become a teacher....and it's not nearly as bad as it seems."
   ]
  },
  {
   "cell_type": "markdown",
   "metadata": {},
   "source": [
    "## Commenting in HTML"
   ]
  },
  {
   "cell_type": "markdown",
   "metadata": {},
   "source": [
    "What if you are not with the PHP tags and only within your HTML document. You can still make a comment but you do it as seen below.\n",
    "\n",
    "<img src=\"https://dl.dropboxusercontent.com/u/90219577/Hermon/CSE_Website/webdev/17/comment.png\">"
   ]
  },
  {
   "cell_type": "markdown",
   "metadata": {},
   "source": [
    "<table width=\"100%\" border=\"1\" cellpadding=\"2\" cellspacing=\"0\">\n",
    "<tr>\n",
    "<td width=\"90\" bgcolor=\"#0000FF\" style=\"vertical-align:top\"><img src=\"https://dl.dropboxusercontent.com/u/90219577/Hermon/CSE_Website/webdev/00/WebWiz.png\" style=\"border:2px solid #021a40;\"><center><b>\n",
    "<font color=\"#FFFFFF\">Web<br>Wizardry<br>Task</font></b></center></td>\n",
    "<td valign=\"top\">\n",
    "<center><h1>Color Timer</h1></center><br>\n",
    "\n",
    "Use <b>Switch-Case</b> to change the background color of your webpage every 10 seconds. (Within a minute you will cycle through 6 colors). You will be using the <b>date( )</b> function and you should print out the current seconds in big block numbers in the center of the screen. You might question how to do this since so far whenever we used the <b>date( )</b> function you would have to actually refresh the screen to see the update. We can actually have PHP automatically refresh the page for us at whatever time interval we desire. For instance a 1 means refresh the page each second. Simply put the following line of code at the top of your PHP script.<br><br>\n",
    "<h1><center>header(\"refresh: 1;\");</center></h1>\n",
    "\n",
    "</td></tr></table>"
   ]
  },
  {
   "cell_type": "markdown",
   "metadata": {},
   "source": [
    "<table width=\"100%\" cellpadding=\"2\" cellspacing=\"2\">\n",
    "<tr>\n",
    "<td style=\"border: 1px solid white;\" width=\"100px\">\n",
    "<div>\n",
    "<a href=\"http://nbviewer.ipython.org/github/CSE-UHS/Web-Development/blob/master/Chapter16.ipynb\"><img src=\"https://dl.dropboxusercontent.com/u/90219577/Hermon/CSE_Website/webdev/leftA.png\" height=\"50px\" width=\"50px\" align=\"left\"></a>\n",
    "</div>\n",
    "</td>\n",
    "<td style=\"border: 1px solid white;\">\n",
    "<div align=\"center\">\n",
    "<a href=\"http://nbviewer.ipython.org/github/CSE-UHS/Web-Development/blob/master/Chapter00.ipynb\"><h2>Table of Contents</h2></a>\n",
    "</div>\n",
    "</td>\n",
    "<td style=\"border: 1px solid white;\" width=\"100px\">\n",
    "<div>\n",
    "<a href=\"http://nbviewer.ipython.org/github/CSE-UHS/Web-Development/blob/master/Chapter18.ipynb\"><img src=\"https://dl.dropboxusercontent.com/u/90219577/Hermon/CSE_Website/webdev/rightA.png\"  height=\"50px\" width=\"50px\"  align=\"right\"></a>\n",
    "</div>\n",
    "</td>\n",
    "</tr></table>"
   ]
  }
 ],
 "metadata": {
  "kernelspec": {
   "display_name": "Python 2",
   "language": "python",
   "name": "python2"
  },
  "language_info": {
   "codemirror_mode": {
    "name": "ipython",
    "version": 2
   },
   "file_extension": ".py",
   "mimetype": "text/x-python",
   "name": "python",
   "nbconvert_exporter": "python",
   "pygments_lexer": "ipython2",
   "version": "2.7.10"
  }
 },
 "nbformat": 4,
 "nbformat_minor": 0
}

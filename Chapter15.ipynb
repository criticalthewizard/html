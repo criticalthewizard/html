{
 "cells": [
  {
   "cell_type": "markdown",
   "metadata": {},
   "source": [
    "<div align=\"right\">\n",
    "<a href=\"http://nbviewer.ipython.org/github/CSE-UHS/Web-Development/blob/master/Chapter00.ipynb\" align=\"right\"><h2>Table of Contents</h2></a>\n",
    "</div>"
   ]
  },
  {
   "cell_type": "markdown",
   "metadata": {},
   "source": [
    "# Chapter 15: Intro to PHP"
   ]
  },
  {
   "cell_type": "markdown",
   "metadata": {},
   "source": [
    "<h3>What is PHP?</h3>\n",
    "\n",
    "PHP was originally an acronym for <b>Personal Home Pages</b>, but is now a recursive acronym for <b>Hypertext Preprocessor</b>.\n",
    "\n",
    "PHP was originally developed by the Danish Greenlander Rasmus Lerdorf, and was subsequently developed as open source. PHP is not a proper web standard - but an open-source technology. PHP is neither real programming language - but PHP lets you use so-called scripting in your HTML documents.\n",
    "\n",
    "To describe what a PHP page is, you could say that it is a file with the extension .php that contains a combination of HTML tags and scripts that run on a web server.\n",
    "\n",
    "How does PHP work?\n",
    "\n",
    "The best way to explain how PHP works is by comparing it with standard HTML. Imagine you type the address of an HTML document (e.g. http://www.mysite.com/page.htm) in the address line of the browser. This way you request an HTML page. The server simply sends an HTML file to the client. But if you instead type http://www.mysite.com/page.php - and thus request a PHP page, the server first reads the PHP file carefully to see if there are any tasks that need to be executed. Only when the server has done what it is supposed to do, the result is then sent to the client. It is important to understand that the client only sees the result of the server's work (an HTML file), not the actual instructions (PHP).\n",
    "\n",
    "<h3>This means a couple of things:</h3>\n",
    "\n",
    "1.) You won't be able to test your <b>.php</b> page simply by dropping it on the browser because PHP is actually run on the server. From now on you will have to FTP your <b>.php</b> pages to your server space to see if it is working as expected. \n",
    "\n",
    "2.) This means that if you click \"view source\" on a PHP page, you do not see the PHP codes - only basic HTML tags. Therefore, you cannot see how a PHP page is made by using \"view source\". You have to learn PHP in other ways, for example, by taking this course and of course always having the skills to read and understand the official...\n",
    "\n",
    "<center><h1><a href=\"http://php.net/manual/en/index.php\" target=\"_blank\">PHP Documentation</a>...BOOKMARK IT!</h1></center>"
   ]
  },
  {
   "cell_type": "markdown",
   "metadata": {},
   "source": [
    "## PHP Tags and Echo"
   ]
  },
  {
   "cell_type": "markdown",
   "metadata": {},
   "source": [
    "Start by making an ordinary HTML document like the following, but name the file <b>page.php</b> and upload it to your server. Notice, we have a normal HTML page and even some CSS for the <b>&lt;h1&gt;</b> element. The difference is there is a line of PHP. Let's examine how PHP is included in an HTML document.\n",
    "\n",
    "First, we need to tell the server when the PHP will start and end. In PHP you use the tags <b>&lt;?php</b> and <b>?&gt;</b> to mark the start and end for the PHP codes that the server must execute (on most servers it will be suficient to use just <b>&lt;?</b> as start tag, but <b>&lt;?php</b> is the most correct to use the first time PHP is used.)\n",
    "\n",
    "You might find PHP easy to learn because of your already strong grasp of Python. When we wanted to print something on the screen in Python we used <b>print</b>. In PHP we use <b>echo</b>. Since we want to print some HTML which is technically a string we include it in quotations.\n",
    "\n",
    "Finally we come to the future bane of your existence. The <b>SEMICOLON;</b>. Every command in PHP ends with a semicolon. If you forget it very bad things start to happen.\n",
    "\n",
    "\n",
    "<img src=\"https://dl.dropboxusercontent.com/u/90219577/Hermon/CSE_Website/webdev/15/hello1.png\">\n",
    "\n",
    "Navigate to your page and see how it looks. The above code looked like this on my page:\n",
    "\n",
    "\n",
    "<img src=\"https://dl.dropboxusercontent.com/u/90219577/Hermon/CSE_Website/webdev/15/hello2a.png\">\n",
    "\t\n",
    "Try to look at the code of that page by <b>viewing source</b>. The PHP codes are gone! As you may remember it is only the server that can see the PHP codes - the client (the browser) only sees the result!\n",
    "\n",
    "<u>Why didn't we just use regular HTML</u>???? DUH! Because we are trying to learn PHP!!! Imagine if the text was in a variable sent to this page by a form. We could \"echo\" the variable onto the page and it would always print whatever was entered in the form. So yes, if we were actually going to hard-code text into our HTML the PHP line would have been a waste of time."
   ]
  },
  {
   "cell_type": "markdown",
   "metadata": {},
   "source": [
    "## date( )"
   ]
  },
  {
   "cell_type": "markdown",
   "metadata": {},
   "source": [
    "Let's make the server write something else more interesting like the current date and time:\n",
    "\n",
    "<img src=\"https://dl.dropboxusercontent.com/u/90219577/Hermon/CSE_Website/webdev/15/time1.png\">\n",
    "\n",
    "\t\n",
    "Upload the file and navigate to it in the browser. Here we are making the server write the date and time when the PHP page is displayed. Note that if you refresh the page in the browser, a new time is written. The server writes the current date and time each time the page is sent to a client.\n",
    "\n",
    "<img src=\"https://dl.dropboxusercontent.com/u/90219577/Hermon/CSE_Website/webdev/15/time2.png\">\n",
    "\n",
    "In our example, we used <b>date</b>, which is a function that returns the current date and time on the server.\n",
    "\n",
    "Let's try to extend the example by concatenating a string and a function. We do this with a \".\" (a period) in PHP.\n",
    "<img src=\"https://dl.dropboxusercontent.com/u/90219577/Hermon/CSE_Website/webdev/15/time3.png\">\n",
    "<img src=\"https://dl.dropboxusercontent.com/u/90219577/Hermon/CSE_Website/webdev/15/time4.png\">\n",
    "\n",
    "The <b>(\"r\")</b> is a letter designation that returns the date in a certain format. There are many different letter designations that can return various parts of the date in various formats. At this time you should look at the <b>date( )</b> function in the official PHP Documentation.\n"
   ]
  },
  {
   "cell_type": "markdown",
   "metadata": {},
   "source": [
    "## time( )"
   ]
  },
  {
   "cell_type": "markdown",
   "metadata": {},
   "source": [
    "<b><u>TIME</u></b> to get a little nerdy! The function <b>time( )</b> returns the current time as the number of seconds since January 1, 1970, 12:00 PM, GMT. Time expressed in the number of seconds since January 1, 1970, 12:00 PM GMT is a so-called \"timestamp\" (UNIX timestamp) and is quite useful when you work with dates/times in the future or the past. Update your page.php with the following and upload to your server.\n",
    "\n",
    "\n",
    "<img src=\"https://dl.dropboxusercontent.com/u/90219577/Hermon/CSE_Website/webdev/15/time5.png\">\n",
    "\n",
    "\n",
    "Now if you navigate to your page and refresh the page you will keep seeing the seconds update.\n",
    "\n",
    "<img src=\"https://dl.dropboxusercontent.com/u/90219577/Hermon/CSE_Website/webdev/15/time6.png\">\n",
    "\n",
    "\n",
    "By default, the <b>date( )</b> function uses the current timestamp or <b>time( )</b> and does the math behind the scenes to print the date in the format you desire. With an extra parameter in the <b>date( )</b> function you can specify a different time stamp and thus work with the future or the past. We do this simply by putting a comma after our letter designation and then the timestamp. In the example below, we set the timestamp to 0 seconds from January 1, 1970 12:00 PM, GMT. By using the letter designation <b>(\"l\")</b> we can check what day of the week January 1, 1970 was.\n",
    "\n",
    "\n",
    "<img src=\"https://dl.dropboxusercontent.com/u/90219577/Hermon/CSE_Website/webdev/15/wed1.png\">\n",
    "\n",
    "\n",
    "<img src=\"https://dl.dropboxusercontent.com/u/90219577/Hermon/CSE_Website/webdev/15/wed2.png\">"
   ]
  },
  {
   "cell_type": "markdown",
   "metadata": {},
   "source": [
    "## mktime( )"
   ]
  },
  {
   "cell_type": "markdown",
   "metadata": {},
   "source": [
    "What if I wanted to determine the day of the week that we Neil Armstrong first stepped on the moon? I could do this with the <b>date( )</b> function but I would have to know how many seconds before January 1, 1970 that event occurred. Unless you are a mathematical genius, it quickly becomes complicated to count the number of seconds before or after January 1, 1970 to a specific time in the future or past. So here we will introduce another nifty function: <b>mktime( )</b>, which does the calculations for you.\n",
    "\n",
    "The syntax for <b>mktime( )</b> is <b>(hour, minute, second, month, day, year)</b>. The example below converts the time of the first step on the Moon (July 21, 1969, 02:56). Try it out.\n",
    "\n",
    "<img src=\"https://dl.dropboxusercontent.com/u/90219577/Hermon/CSE_Website/webdev/15/moon1.png\">\n",
    "\n",
    "Notice that it's returning a negative number. This is because the date is earlier than January 1, 1970.\n",
    "<img src=\"https://dl.dropboxusercontent.com/u/90219577/Hermon/CSE_Website/webdev/15/moon2.png\">\n",
    "\n",
    "We can now put this together with the <b>date( )</b> function to find out which weekday this historic day took place.\n",
    "\n",
    "<img src=\"https://dl.dropboxusercontent.com/u/90219577/Hermon/CSE_Website/webdev/15/moon3.png\">\n"
   ]
  },
  {
   "cell_type": "markdown",
   "metadata": {},
   "source": [
    "<table width=\"100%\" border=\"1\" cellpadding=\"2\" cellspacing=\"0\">\n",
    "<tr>\n",
    "<td width=\"90\" bgcolor=\"#0000FF\" style=\"vertical-align:top\"><img src=\"https://dl.dropboxusercontent.com/u/90219577/Hermon/CSE_Website/webdev/00/WebWiz.png\" style=\"border:2px solid #021a40;\"><center><b>\n",
    "<font color=\"#FFFFFF\">Web<br>Wizardry<br>Task</font></b></center></td>\n",
    "<td valign=\"top\">\n",
    "<center><h1>Time Travel</h1></center><br>\n",
    "<b>\n",
    "1.) Determine the day of the week you were born.<br>\n",
    "2.) Determine the day of the week when you will turn 100 years old.<br>\n",
    "3.) Determine the day of the week of the World Trade Center Tragedy.<br>\n",
    "4.) Print the current time and date according to the below format.<br>\n",
    "5.) Display an image telling what day of the week it is.</b><br>\n",
    "(Hint: We won't be using an If statement. You will download 7 different images and name them Sunday.jpg through Saturday.jpg)\n",
    "\n",
    "<h3><u>Webpage Output</u>:</h3>\n",
    "<img src=\"https://dl.dropboxusercontent.com/u/90219577/Hermon/CSE_Website/webdev/15/timetravel.png\">\n",
    "</td></tr></table>"
   ]
  },
  {
   "cell_type": "markdown",
   "metadata": {},
   "source": [
    "<table width=\"100%\" cellpadding=\"2\" cellspacing=\"2\">\n",
    "<tr>\n",
    "<td style=\"border: 1px solid white;\" width=\"100px\">\n",
    "<div>\n",
    "<a href=\"http://nbviewer.ipython.org/github/CSE-UHS/Web-Development/blob/master/Chapter14.ipynb\"><img src=\"https://dl.dropboxusercontent.com/u/90219577/Hermon/CSE_Website/webdev/leftA.png\" height=\"50px\" width=\"50px\" align=\"left\"></a>\n",
    "</div>\n",
    "</td>\n",
    "<td style=\"border: 1px solid white;\">\n",
    "<div align=\"center\">\n",
    "<a href=\"http://nbviewer.ipython.org/github/CSE-UHS/Web-Development/blob/master/Chapter00.ipynb\"><h2>Table of Contents</h2></a>\n",
    "</div>\n",
    "</td>\n",
    "<td style=\"border: 1px solid white;\" width=\"100px\">\n",
    "<div>\n",
    "<a href=\"http://nbviewer.ipython.org/github/CSE-UHS/Web-Development/blob/master/Chapter16.ipynb\"><img src=\"https://dl.dropboxusercontent.com/u/90219577/Hermon/CSE_Website/webdev/rightA.png\"  height=\"50px\" width=\"50px\"  align=\"right\"></a>\n",
    "</div>\n",
    "</td>\n",
    "</tr></table>"
   ]
  }
 ],
 "metadata": {
  "kernelspec": {
   "display_name": "Python 2",
   "language": "python",
   "name": "python2"
  },
  "language_info": {
   "codemirror_mode": {
    "name": "ipython",
    "version": 2
   },
   "file_extension": ".py",
   "mimetype": "text/x-python",
   "name": "python",
   "nbconvert_exporter": "python",
   "pygments_lexer": "ipython2",
   "version": "2.7.10"
  }
 },
 "nbformat": 4,
 "nbformat_minor": 0
}

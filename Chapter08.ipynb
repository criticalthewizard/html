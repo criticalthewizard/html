{
 "cells": [
  {
   "cell_type": "markdown",
   "metadata": {},
   "source": [
    "<div align=\"right\">\n",
    "<a href=\"http://nbviewer.ipython.org/github/CSE-UHS/Web-Development/blob/master/Chapter00.ipynb\" align=\"right\"><h2>Table of Contents</h2></a>\n",
    "</div>"
   ]
  },
  {
   "cell_type": "markdown",
   "metadata": {},
   "source": [
    "# Chapter 8: Colors and Backgrounds"
   ]
  },
  {
   "cell_type": "markdown",
   "metadata": {},
   "source": [
    "In this lesson you will learn how to apply colors and background colors to your websites. We will also look at advanced methods to position and control background images. The following CSS properties will be explained:\n",
    "\n",
    "<b>color<br>\n",
    "background-color<br>\n",
    "background-image<br>\n",
    "background-repeat<br>\n",
    "background-attachment<br>\n",
    "background-position<br>\n",
    "background</b>"
   ]
  },
  {
   "cell_type": "markdown",
   "metadata": {},
   "source": [
    "## Foreground color: the 'color' property"
   ]
  },
  {
   "cell_type": "markdown",
   "metadata": {},
   "source": [
    "The color property describes the foreground color of an element.\n",
    "\n",
    "For example, imagine that we want all headlines in a document to be dark red. The headlines are all marked with the HTML element <b>&lt;h1&gt;</b>. The code below sets the color of <b>&lt;h1&gt;</b> elements to red.\n",
    "\n",
    "<center><h3>h1 {color: #ff0000;}</h3></center>\n",
    "\n",
    "Colors can be entered as hexadecimal values as in the example above (#ff0000), or you can use the names of the colors (\"red\") or rgb-values (rgb(255,0,0))."
   ]
  },
  {
   "cell_type": "markdown",
   "metadata": {},
   "source": [
    "## The 'background-color' property"
   ]
  },
  {
   "cell_type": "markdown",
   "metadata": {},
   "source": [
    "The <b>background-color property</b> describes the background color of elements.\n",
    "\n",
    "The element <b>&lt;body&gt;</b> contains all the content of an HTML document. Thus, to change the background color of an entire page, the background-color property should be applied to the <b>&lt;body&gt;</b> element.\n",
    "\n",
    "You can also apply background colors to other elements including headlines and text. In the example below, different background colors are applied to <b>&lt;body&gt;</b> and <b>&lt;h1&gt;</b> elements.\n",
    "\n",
    "\t\n",
    "<center><h3>body {background-color: #FFCC66;}<br><br>\n",
    "\n",
    "h1 {color: #990000; background-color: #FC9804;}</h3></center>\n",
    "\t\n",
    "Notice that we applied two properties to <b>&lt;h1&gt;</b> by dividing them by a semicolon.\n"
   ]
  },
  {
   "cell_type": "markdown",
   "metadata": {},
   "source": [
    "## Background images [background-image]"
   ]
  },
  {
   "cell_type": "markdown",
   "metadata": {},
   "source": [
    "The CSS property background-image is used to insert a background image. As an example of a background image, we will use Severus Snape below. You can download the image so you can use it on your own computer (right click the image and choose \"save image as\"), or you can use another image as you see fit.\n",
    "\n",
    "<img src=\"https://dl.dropboxusercontent.com/u/90219577/Hermon/CSE_Website/webdev/08/snape.jpg\">\n",
    "\n",
    "To insert the image of Snape as a background image for a web page, simply apply the background-image property to <b>&lt;body&gt;</b> and specify the location of the image.\n",
    "\n",
    "\t\n",
    "<h3>body {<br>\n",
    "        background-color: #FFCC66;<br>\n",
    "\t\tbackground-image: url(\"snape.jpg\");<br>\n",
    "\t}<br><br>\n",
    "\n",
    "h1 {<br>\n",
    "\t\tcolor: #990000;<br>\n",
    "\t\tbackground-color: #FC9804;<br>\n",
    "\t}</h3>\n",
    "\t\n",
    "Notice how we specified the location of the image as url(\"snape.jpg\"). This means that the image is located in the same folder as the style sheet. You can also refer to images in other folders using url(\"../images/snape.jpg\") or even on the Internet indicating the full address of the file.\n"
   ]
  },
  {
   "cell_type": "markdown",
   "metadata": {},
   "source": [
    "## Repeat background image [background-repeat]"
   ]
  },
  {
   "cell_type": "markdown",
   "metadata": {},
   "source": [
    "In the example above, did you notice that by default Severus Snape was repeated both horizontally and vertically to cover the entire screen? The property <b>background-repeat</b> controls this behavior.\n",
    "\n",
    "The table below outlines the four different values for <b>background-repeat</b>.\n",
    "\n",
    "<table border=\"1\">\n",
    "\t<tr><th>Value</th><th>Description</th></tr>\n",
    "\t<tr><td><code>background-repeat: repeat-x</code></td><td>The image is repeated horizontally</td></tr>\n",
    "\t<tr><td><code>background-repeat: repeat-y</code></td><td>The image is repeated vertically</td></tr>\n",
    "\t<tr><td><code>background-repeat: repeat</code></td><td>The image is repeated both horizontally and vertically</td></tr>\n",
    "\t<tr><td><code>background-repeat: no-repeat</code></td><td>The image is not repeated</td></tr>\n",
    "\t</table>\n",
    "\n",
    "For example, to avoid repetition of a background image the code should look like this:<br>\n",
    "    <h3>body {<br>\n",
    "        background-color: #FFCC66;<br>\n",
    "\t\tbackground-image: url(\"snape.jpg\");<br>\n",
    "        <font color=\"red\">background-repeat: no-repeat;</font><br>\n",
    "\t}<br><br>\n",
    "\n",
    "h1 {<br>\n",
    "\t\tcolor: #990000;<br>\n",
    "\t\tbackground-color: #FC9804;<br>\n",
    "\t}</h3>\n"
   ]
  },
  {
   "cell_type": "markdown",
   "metadata": {},
   "source": [
    "## Lock background image [background-attachment]"
   ]
  },
  {
   "cell_type": "markdown",
   "metadata": {},
   "source": [
    "The property <b>background-attachment</b> specifies whether a background picture is fixed or scrolls along with the containing element.\n",
    "\n",
    "A fixed background image will not move with the text when a reader is scrolling the page, whereas an unlocked background image will scroll along with the text of the web page.\n",
    "\n",
    "The table below outlines the two different values for <b>background-attachment</b>.\n",
    "\n",
    "<table border=\"1\">\n",
    "\t<tr><th>Value</th><th>Description</th></tr>\n",
    "\t<tr><td><code>Background-attachment: scroll</code></td><td>The image scrolls with the page - unlocked</td></tr>\n",
    "\t<tr><td><code>Background-attachment: fixed</code></td><td>The image is locked</td></tr>\n",
    "\t</table>\n",
    "\n",
    "For example, the code below will fix the background image.<br>\n",
    "    <h3>body {<br>\n",
    "        background-color: #FFCC66;<br>\n",
    "\t\tbackground-image: url(\"snape.jpg\");<br>\n",
    "        background-repeat: no-repeat;<br>\n",
    "        <font color=\"red\">background-attachment: fixed;</font><br>\n",
    "\t}<br><br>\n",
    "\n",
    "h1 {<br>\n",
    "\t\tcolor: #990000;<br>\n",
    "\t\tbackground-color: #FC9804;<br>\n",
    "\t}</h3>\n"
   ]
  },
  {
   "cell_type": "markdown",
   "metadata": {},
   "source": [
    "## Place background image [background-position]"
   ]
  },
  {
   "cell_type": "markdown",
   "metadata": {},
   "source": [
    "By default, a background image will be positioned in the top left corner of the screen. The property <b>background-position</b> allows you to change this default and position the background image anywhere you like on the screen.\n",
    "\n",
    "There are numerous ways to set the values of <b>background-position</b>. However, all of them are formatted as a set of coordinates. For example, the value '100px 200px' positions the background image 100px from the left side and 200px from the top of the browser window.\n",
    "\n",
    "The coordinates can be indicated as percentages of the browser window, fixed units (pixels, centimetres, etc.) or you can use the words top, bottom, center, left and right. The model below illustrates the system:\n",
    "\n",
    "<img src=\"https://dl.dropboxusercontent.com/u/90219577/Hermon/CSE_Website/webdev/08/position.png\">\n",
    "\n",
    "The table below gives some examples.<br>\n",
    "\n",
    "<table border=\"1\">\n",
    "\t<tr><th>Value</th><th>Description</th></tr>\n",
    "\t<tr><td><code>background-position: 2cm 2cm</code></td><td>The image is positioned 2 cm from the left and 2 cm down the page</td></tr>\n",
    "\t<tr><td><code>background-position: 50% 25%</code></td><td>The image is centrally positioned and one fourth down the page</td></tr>\n",
    "\t<tr><td><code>background-position: top right</code></td><td>The image is positioned in the top-right corner of the page</td></tr>\n",
    "\t</table>\n",
    "\n",
    "For example, the code below will fix the background image.<br>\n",
    "    <h3>body {<br>\n",
    "        background-color: #FFCC66;<br>\n",
    "\t\tbackground-image: url(\"snape.jpg\");<br>\n",
    "        background-repeat: no-repeat;<br>\n",
    "        background-attachment: fixed;<br>\n",
    "        <font color=\"red\">background-position: right bottom;</font><br>\n",
    "\t}<br><br>\n",
    "\n",
    "h1 {<br>\n",
    "\t\tcolor: #990000;<br>\n",
    "\t\tbackground-color: #FC9804;<br>\n",
    "\t}</h3>\n"
   ]
  },
  {
   "cell_type": "markdown",
   "metadata": {},
   "source": [
    "## Compiling [background]"
   ]
  },
  {
   "cell_type": "markdown",
   "metadata": {},
   "source": [
    "The property <b>background</b> is a short hand for all the background properties listed in this lesson. With <b>background</b> you can compress several properties and thereby write your style sheet in a shorter way which makes it easier to read.\n",
    "\n",
    "For example, look at these five lines:\n",
    "\n",
    "\t\n",
    "<b>background-color: #FFCC66;<br>\n",
    "background-image: url(\"snape.jpg\");<br>\n",
    "background-repeat: no-repeat;<br>\n",
    "background-attachment: fixed;<br>\n",
    "background-position: right bottom;</b><br>\n",
    "\t\n",
    "\t\n",
    "Using background the same result can be achieved in just one line of code:<br>\n",
    "\n",
    "\t\n",
    "<h3><center>background: #FFCC66 url(\"butterfly.gif\") no-repeat fixed right bottom;</center></h3>\n",
    "\t\n",
    "\t\n",
    "The list of order is as follows:<br>\n",
    "\n",
    "<center><b>[background-color] | [background-image] | [background-repeat] | [background-attachment] | [background-position]</b></center>\n",
    "\n",
    "If a property is left out, it will automatically be set to its default value. For example, if background-attachment and background-position are taken out of the example:\n",
    "\n",
    "\t\n",
    "<center><h3>background: #FFCC66 url(\"butterfly.gif\") no-repeat;</h3></center>\n",
    "\t\n",
    "\t\n",
    "These two properties that are not specified would merely be set to their default values which as you know are scroll and top left.\n"
   ]
  },
  {
   "cell_type": "markdown",
   "metadata": {},
   "source": [
    "<table width=\"100%\" border=\"1\" cellpadding=\"2\" cellspacing=\"0\">\n",
    "<tr>\n",
    "<td width=\"90\" bgcolor=\"#0000FF\" style=\"vertical-align:top\"><img src=\"https://dl.dropboxusercontent.com/u/90219577/Hermon/CSE_Website/webdev/00/WebWiz.png\" style=\"border:2px solid #021a40;\"><center><b>\n",
    "<font color=\"#FFFFFF\">Web<br>Wizardry<br>Task</font></b></center></td>\n",
    "<td valign=\"top\">\n",
    "<center><h1><u>Severus Snape</u></h1></center><br>\n",
    "<font size=\"+0\"><center><b>Create a quick Severus Snape website using the properties that you just learned.</b></center></font>\n",
    "</td></tr></table>"
   ]
  },
  {
   "cell_type": "markdown",
   "metadata": {},
   "source": [
    "<table width=\"100%\" cellpadding=\"2\" cellspacing=\"2\">\n",
    "<tr>\n",
    "<td style=\"border: 1px solid white;\" width=\"100px\">\n",
    "<div>\n",
    "<a href=\"http://nbviewer.ipython.org/github/CSE-UHS/Web-Development/blob/master/Chapter07.ipynb\"><img src=\"https://dl.dropboxusercontent.com/u/90219577/Hermon/CSE_Website/webdev/leftA.png\" height=\"50px\" width=\"50px\" align=\"left\"></a>\n",
    "</div>\n",
    "</td>\n",
    "<td style=\"border: 1px solid white;\">\n",
    "<div align=\"center\">\n",
    "<a href=\"http://nbviewer.ipython.org/github/CSE-UHS/Web-Development/blob/master/Chapter00.ipynb\"><h2>Table of Contents</h2></a>\n",
    "</div>\n",
    "</td>\n",
    "<td style=\"border: 1px solid white;\" width=\"100px\">\n",
    "<div>\n",
    "<a href=\"http://nbviewer.ipython.org/github/CSE-UHS/Web-Development/blob/master/Chapter09.ipynb\"><img src=\"https://dl.dropboxusercontent.com/u/90219577/Hermon/CSE_Website/webdev/rightA.png\"  height=\"50px\" width=\"50px\"  align=\"right\"></a>\n",
    "</div>\n",
    "</td>\n",
    "</tr></table>"
   ]
  }
 ],
 "metadata": {
  "kernelspec": {
   "display_name": "Python 2",
   "language": "python",
   "name": "python2"
  },
  "language_info": {
   "codemirror_mode": {
    "name": "ipython",
    "version": 2
   },
   "file_extension": ".py",
   "mimetype": "text/x-python",
   "name": "python",
   "nbconvert_exporter": "python",
   "pygments_lexer": "ipython2",
   "version": "2.7.10"
  }
 },
 "nbformat": 4,
 "nbformat_minor": 0
}

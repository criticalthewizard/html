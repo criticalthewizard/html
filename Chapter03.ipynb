{
 "cells": [
  {
   "cell_type": "markdown",
   "metadata": {},
   "source": [
    "<div align=\"right\">\n",
    "<a href=\"http://nbviewer.ipython.org/github/CSE-UHS/Web-Development/blob/master/Chapter00.ipynb\" align=\"right\"><h2>Table of Contents</h2></a>\n",
    "</div>"
   ]
  },
  {
   "cell_type": "markdown",
   "metadata": {},
   "source": [
    "# Chapter 3: Links"
   ]
  },
  {
   "cell_type": "markdown",
   "metadata": {},
   "source": [
    "## Linking to a Website"
   ]
  },
  {
   "cell_type": "markdown",
   "metadata": {},
   "source": [
    "In this lesson, you will learn how to create links. To make links, you use what you always use when coding HTML: an element. A simple element with one attribute and you will be able to link to anything and everything. Here is an example of what a link to EngineeringU.com would look like:<br><br>\n",
    "\n",
    "<center><img src=\"https://dl.dropboxusercontent.com/u/90219577/Hermon/CSE_Website/webdev/03/EU1.png\"></center>\n",
    "\n",
    "<a href=\"http://www.engineeringu.com\" target=\"_blank\" title=\"The greatest website on the internet\">EngineeringU.com</a><br>\n",
    "\n",
    "The element <b>a</b> stands for \"anchor\". And the attribute <b>href</b> is short for \"hypertext reference\", which specifies where the link leads. This is typically an address on the internet or a file name. In the above example the attribute href has the value \"http://www.engineeringU.com\", which is the full address of EngineeringU.com and is called a <b>URL (Uniform Resource Locator)</b>. Note that <b>\"http://\"</b> must always be included in URLs. The sentence \"Visit EngineeringU.com\" is the text that is shown in the browser as the link. Remember to close the element with an <b>&lt;/a&gt;</b>. \n",
    "\n",
    "We also used the <b>target</b> attribute which tells the browser how to open the URL. <b>target=\"_blank\"</b> will open the URL in a new window or tab.\n",
    "\n",
    "Finally we used the <b>title</b> attribute which is used to type a short description of the link. If you - without clicking - place the cursor over the link, you will see the text \"The greatest website on the internet\" appears."
   ]
  },
  {
   "cell_type": "markdown",
   "metadata": {},
   "source": [
    "## Linking Between Pages"
   ]
  },
  {
   "cell_type": "markdown",
   "metadata": {},
   "source": [
    "At this time duplicate your index.html file and rename it something like <b>Page2.html</b>. Change the code on Page2 by putting some statement like, \"This is Page 2 of my website\". Now back on your index file attempt to link to your Page2 file and on your Page2 file link back to your index file. If both of these files are saved in the same folder you can make a link from one page to the other by only typing the name of the file in the link. Under such circumstances a link from your index.html to Page2.html could look like this:\n",
    "\n",
    "<center><img src=\"https://dl.dropboxusercontent.com/u/90219577/Hermon/CSE_Website/webdev/03/page2.png\"></center>"
   ]
  },
  {
   "cell_type": "markdown",
   "metadata": {},
   "source": [
    "## Relative vs. Absolute URLs"
   ]
  },
  {
   "cell_type": "markdown",
   "metadata": {},
   "source": [
    "The URL we used above is called a <b>relative URL</b>. This means the URL is relative to the location of the file that you are linking from. If both files are in the same folder then you can simply use the filename for the URL as we did. Let's try something different. On your server put your Page2.html file in your <b>img</b> folder and now try your links. You will notice that they are now broken. Page2.html is now placed in a subfolder (named \"img\"), the relative link would have to change to enter into that subfolder.\n",
    "\n",
    "<center><img src=\"https://dl.dropboxusercontent.com/u/90219577/Hermon/CSE_Website/webdev/03/relativepage2.png\"></center>\n",
    "\n",
    "How would you fix the link on the Page2.html file to get back out of the subfolder to the index.html file? It would look like this.<br><br>\n",
    "\n",
    "<center><img src=\"https://dl.dropboxusercontent.com/u/90219577/Hermon/CSE_Website/webdev/03/relativeback.png\"></center>\n",
    "\n",
    "<b>\"../\"</b> points to the folder one level up from position of the file from which the link is made. Following the same system, you can also point two (or more) folders up by writing \"../../\".\n",
    "\n",
    "An <b>absolute URL</b> is one that gives the entire URL address from the server. For each of our files they would look like the following:<br><br>\n",
    "\n",
    "<center><img src=\"https://dl.dropboxusercontent.com/u/90219577/Hermon/CSE_Website/webdev/03/absolute.png\"></center>"
   ]
  },
  {
   "cell_type": "markdown",
   "metadata": {},
   "source": [
    "## Internal Linking Within a Page"
   ]
  },
  {
   "cell_type": "markdown",
   "metadata": {},
   "source": [
    "You can also create internal links within a page - for example a table of contents at the top with links to each chapter below. All you need to use is a very useful attribute called <b>id (identification)</b> and the symbol \"<b>#</b>\".\n",
    "\n",
    "Use the id attribute to mark the element to which you want to link. The id attibute must start with a letter. You then create a link to that element by using \"#\" in the link attribute. The \"#\" must be followed by the id of the tag you want to link to. Check out the following example:\n",
    "\n",
    "\t\n",
    "\t<html>\n",
    "\t  \n",
    "\t  <head>\n",
    "\t  </head>\n",
    "\n",
    "\t  <body>\n",
    "\n",
    "\t\t<p><a href=\"#heading1\">Link to heading 1</a></p>\n",
    "\t\t<p><a href=\"#heading2\">Link to heading 2</a></p>\n",
    "\n",
    "\t\t<h1 id=\"heading1\">heading 1</h1>\n",
    "\t\t<p>Text text text text</p>\n",
    "\n",
    "\t\t<h1 id=\"heading2\">heading 2</h1>\n",
    "\t\t<p>Text text text text</p>\n",
    "\t  \n",
    "\t  </body>\n",
    "\n",
    "\t</html>"
   ]
  },
  {
   "cell_type": "markdown",
   "metadata": {},
   "source": [
    "## E-mail Link"
   ]
  },
  {
   "cell_type": "markdown",
   "metadata": {},
   "source": [
    "You can also make a link to an e-mail address. It is done in almost the same way as when you link to a document:\n",
    "\n",
    "\t<a href=\"mailto:hermonm@urbandaleschools.com\">Send an e-mail to your instructor</a>\n",
    "\t\n",
    "will look like this in the browser:\n",
    "\n",
    "<a href=\"mailto:hermonm@urbandaleschools.com\">Send an e-mail to your instructor</a>\n",
    "\n",
    "The only difference between a link to an e-mail and a link to a file is that instead of typing the address of a document, you type mailto: followed by an e-mail address. When the link is clicked, the default e-mail program opens with a new blank message addressed to the specified e-mail address. Please note that this function will only work if there is an e-mail program installed on your computer. Give it a try!"
   ]
  },
  {
   "cell_type": "markdown",
   "metadata": {},
   "source": [
    "<table width=\"100%\" border=\"1\" cellpadding=\"2\" cellspacing=\"0\">\n",
    "<tr>\n",
    "<td width=\"90\" bgcolor=\"#0000FF\" style=\"vertical-align:top\"><img src=\"https://dl.dropboxusercontent.com/u/90219577/Hermon/CSE_Website/webdev/00/WebWiz.png\" style=\"border:2px solid #021a40;\"><center><b>\n",
    "<font color=\"#FFFFFF\">Web<br>Wizardry<br>Task</font></b></center></td>\n",
    "<td valign=\"top\"><center><h1><u>LinkedIn</u></h1></center><br>\n",
    "\n",
    "\n",
    "<ol>\n",
    "<li>link to an external webpage</li>\n",
    "<li>link back and forth between your pages</li>\n",
    "<li>link to various places on the same page</li>\n",
    "<li>link to an e-mail of someone</li>\n",
    "</ol></td></tr></table>"
   ]
  },
  {
   "cell_type": "markdown",
   "metadata": {},
   "source": [
    "<table width=\"100%\" cellpadding=\"2\" cellspacing=\"2\">\n",
    "<tr>\n",
    "<td style=\"border: 1px solid white;\" width=\"100px\">\n",
    "<div>\n",
    "<a href=\"http://nbviewer.ipython.org/github/CSE-UHS/Web-Development/blob/master/Chapter02.ipynb\"><img src=\"https://dl.dropboxusercontent.com/u/90219577/Hermon/CSE_Website/webdev/leftA.png\" height=\"50px\" width=\"50px\" align=\"left\"></a>\n",
    "</div>\n",
    "</td>\n",
    "<td style=\"border: 1px solid white;\">\n",
    "<div align=\"center\">\n",
    "<a href=\"http://nbviewer.ipython.org/github/CSE-UHS/Web-Development/blob/master/Chapter00.ipynb\"><h2>Table of Contents</h2></a>\n",
    "</div>\n",
    "</td>\n",
    "<td style=\"border: 1px solid white;\" width=\"100px\">\n",
    "<div>\n",
    "<a href=\"http://nbviewer.ipython.org/github/CSE-UHS/Web-Development/blob/master/Chapter04.ipynb\"><img src=\"https://dl.dropboxusercontent.com/u/90219577/Hermon/CSE_Website/webdev/rightA.png\"  height=\"50px\" width=\"50px\"  align=\"right\"></a>\n",
    "</div>\n",
    "</td>\n",
    "</tr></table>"
   ]
  }
 ],
 "metadata": {
  "kernelspec": {
   "display_name": "Python 2",
   "language": "python",
   "name": "python2"
  },
  "language_info": {
   "codemirror_mode": {
    "name": "ipython",
    "version": 2
   },
   "file_extension": ".py",
   "mimetype": "text/x-python",
   "name": "python",
   "nbconvert_exporter": "python",
   "pygments_lexer": "ipython2",
   "version": "2.7.10"
  }
 },
 "nbformat": 4,
 "nbformat_minor": 0
}

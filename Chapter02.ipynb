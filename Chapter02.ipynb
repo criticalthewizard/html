{
 "cells": [
  {
   "cell_type": "markdown",
   "metadata": {},
   "source": [
    "<div align=\"right\">\n",
    "<a href=\"http://nbviewer.ipython.org/github/CSE-UHS/Web-Development/blob/master/Chapter00.ipynb\" align=\"right\"><h2>Table of Contents</h2></a>\n",
    "</div>"
   ]
  },
  {
   "cell_type": "markdown",
   "metadata": {},
   "source": [
    "# Chapter 2: Elements and Attributes"
   ]
  },
  {
   "cell_type": "markdown",
   "metadata": {},
   "source": [
    "## Some More Elements"
   ]
  },
  {
   "cell_type": "markdown",
   "metadata": {},
   "source": [
    "The elements h1, h2, h3, h4, h5 and h6 is used to make headings (h stands for \"heading\"), where h1 is the first level and normally the largest text, h2 is the second level and normally slightly smaller text, and h6 is the sixth and last in the hierarchy of headings and normally the smallest text. Type the following codes using the heading tags into your index.html file and drop on a browser to see how it looks.<br>\n",
    "<center><img src=\"https://dl.dropboxusercontent.com/u/90219577/Hermon/CSE_Website/webdev/02/headings.png\"></center>"
   ]
  },
  {
   "cell_type": "markdown",
   "metadata": {},
   "source": [
    "Now try these other elements in your index.html file to see what they look like. Notice how we can use more than one element at a time.<br><br><center><img src=\"https://dl.dropboxusercontent.com/u/90219577/Hermon/CSE_Website/webdev/02/strongsmall.png\"></center>\n",
    "\n",
    "In the last chapter we discussed the line break element(<b>&lt;br/&gt;</b>) which was a open and closed tag all in one. Another element that is opened and closed in the same tag is <b>&lt;hr/&gt;</b> which is used to draw a horizontal line (\"hr\" stands for \"horizontal rule\") and looks like the following. Add a horizontal rule to your website.<br>\n",
    "<hr style=\"border-color: #000000;\">"
   ]
  },
  {
   "cell_type": "markdown",
   "metadata": {},
   "source": [
    "## Lists"
   ]
  },
  {
   "cell_type": "markdown",
   "metadata": {},
   "source": [
    "Some more examples of elements that needs both an opening tag and a closing tag - as most elements do - are <b>ul, ol and li</b>. These elements are used when you want to make lists.\n",
    "\n",
    "<b>ul</b> is short for \"unordered list\" and inserts bullets for each list item. <b>ol</b> is short for \"ordered list\" and numbers each list item. Notice in the example that you DO NOT actually put in numbers. To make items in the list use the <b>li</b> tag (\"list item\"). Create one ordered and one unordered list on your website. (Ex. list of planets, to-do list, famous authors, or sports figures.)\n",
    "<center><img src=\"https://dl.dropboxusercontent.com/u/90219577/Hermon/CSE_Website/webdev/02/lists.png\"></center>"
   ]
  },
  {
   "cell_type": "markdown",
   "metadata": {},
   "source": [
    "## Attributes"
   ]
  },
  {
   "cell_type": "markdown",
   "metadata": {},
   "source": [
    "As we've discussed, elements give structure to a HTML document and tells the browser how you want your website to be presented. In some elements you can add more information. Such additional information is called an attribute. We will talk much more about this when we discuss CSS (Cascading Style Sheets) but for now you should know that we can use attributes to add a little syling directly into our HTML.\n",
    "\n",
    "Attributes are always written within a start tag and are followed by an equals sign and the attribute details written between quotation marks. The semicolon after the attribute is for separating different style commands. We will get back to that later.\n",
    "\n",
    "There are many different attributes. The first one you will learn is <b>style</b>. With the style attribute you can add layout to your website. By adding a style attribute to your body tag you can actually change the background color of your webpage. Try adding the style attribute to the body tag of your website.<br><br>\n",
    "<center><img src=\"https://dl.dropboxusercontent.com/u/90219577/Hermon/CSE_Website/webdev/02/style.png\"></center>\n",
    "\n",
    "A hexadecimal color code consists of # and six digits or letters. There are more than 1000 HEX codes and it is not easy to figure out which HEX code is tied to a specific color. Here is a link to one of the many online hexcode color picker websites available on the internet:<br><center><h2><a href=\"http://www.w3schools.com/colors/colors_picker.asp\" target=\"_blank\">Color Picker</a></h2></center><br> You can also use the English name for many common colors as you can see in my example where I used one of my all time favorite web colors: <b>cornsilk</b>.\n",
    "\n",
    "Generally, elements consist of a start tag with or without one or more attributes, some content and an end tag. Simple as that. See the illustration below.\n",
    "<center><img src=\"https://dl.dropboxusercontent.com/u/90219577/Hermon/CSE_Website/webdev/02/attdef.png\"></center>\n",
    "\n",
    "You can easily Google many of the <b>style attibutes</b>. Below, I have used five different style attibutes in the paragraph element. Can you determine what each of them do? \n",
    "<center><img src=\"https://dl.dropboxusercontent.com/u/90219577/Hermon/CSE_Website/webdev/02/avatar.png\"></center>\n",
    "<center><img src=\"https://dl.dropboxusercontent.com/u/90219577/Hermon/CSE_Website/webdev/02/greenavatar.png\"></center>"
   ]
  },
  {
   "cell_type": "markdown",
   "metadata": {},
   "source": [
    "<table width=\"100%\" border=\"1\" cellpadding=\"2\" cellspacing=\"0\">\n",
    "<tr>\n",
    "<td width=\"90\" bgcolor=\"#0000FF\" style=\"vertical-align:top\"><img src=\"https://dl.dropboxusercontent.com/u/90219577/Hermon/CSE_Website/webdev/00/WebWiz.png\" style=\"border:2px solid #021a40;\"><center><b>\n",
    "<font color=\"#FFFFFF\">Web<br>Wizardry<br>Task</font></b></center></td>\n",
    "<td valign=\"top\">\n",
    "<center><h1><u>Elementary</u></h1></center><br><font size=\"+0\"><center><b>Update your website using things that you have learned from this chapter and then show it to your instructor.</b></center></font></td></tr></table>"
   ]
  },
  {
   "cell_type": "markdown",
   "metadata": {},
   "source": [
    "<table width=\"100%\" cellpadding=\"2\" cellspacing=\"2\">\n",
    "<tr>\n",
    "<td style=\"border: 1px solid white;\" width=\"100px\">\n",
    "<div>\n",
    "<a href=\"http://nbviewer.ipython.org/github/CSE-UHS/Web-Development/blob/master/Chapter01.ipynb\"><img src=\"https://dl.dropboxusercontent.com/u/90219577/Hermon/CSE_Website/webdev/leftA.png\" height=\"50px\" width=\"50px\" align=\"left\"></a>\n",
    "</div>\n",
    "</td>\n",
    "<td style=\"border: 1px solid white;\">\n",
    "<div align=\"center\">\n",
    "<a href=\"http://nbviewer.ipython.org/github/CSE-UHS/Web-Development/blob/master/Chapter00.ipynb\"><h2>Table of Contents</h2></a>\n",
    "</div>\n",
    "</td>\n",
    "<td style=\"border: 1px solid white;\" width=\"100px\">\n",
    "<div>\n",
    "<a href=\"http://nbviewer.ipython.org/github/CSE-UHS/Web-Development/blob/master/Chapter03.ipynb\"><img src=\"https://dl.dropboxusercontent.com/u/90219577/Hermon/CSE_Website/webdev/rightA.png\"  height=\"50px\" width=\"50px\"  align=\"right\"></a>\n",
    "</div>\n",
    "</td>\n",
    "</tr></table>"
   ]
  }
 ],
 "metadata": {
  "kernelspec": {
   "display_name": "Python 2",
   "language": "python",
   "name": "python2"
  },
  "language_info": {
   "codemirror_mode": {
    "name": "ipython",
    "version": 2
   },
   "file_extension": ".py",
   "mimetype": "text/x-python",
   "name": "python",
   "nbconvert_exporter": "python",
   "pygments_lexer": "ipython2",
   "version": "2.7.10"
  }
 },
 "nbformat": 4,
 "nbformat_minor": 0
}

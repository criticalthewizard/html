{
 "cells": [
  {
   "cell_type": "markdown",
   "metadata": {},
   "source": [
    "<div align=\"right\">\n",
    "<a href=\"http://nbviewer.ipython.org/github/CSE-UHS/Web-Development/blob/master/Chapter00.ipynb\" align=\"right\"><h2>Table of Contents</h2></a>\n",
    "</div>"
   ]
  },
  {
   "cell_type": "markdown",
   "metadata": {},
   "source": [
    "# Chapter 16: Looping"
   ]
  },
  {
   "cell_type": "markdown",
   "metadata": {},
   "source": [
    "Looping in PHP is VERY similar to Python. In fact similar enough to probably help us mess things up a lot! "
   ]
  },
  {
   "cell_type": "markdown",
   "metadata": {},
   "source": [
    "## while( ) loops"
   ]
  },
  {
   "cell_type": "markdown",
   "metadata": {},
   "source": [
    "The syntax for a <b>while</b> loop is:\n",
    "\n",
    "\n",
    "<center><h3>while (condition) {Statement}</h3></center>\n",
    "\t\n",
    "\t\n",
    "The syntax can almost be directly translated into English: do something while a condition is met. The <b>condition</b> is in parentheses and does not end with a semicolon. The Statement(s) are in curly braces and will end with semicolons. This is different from Python which was all determined by indentation. Try the following code and let's see if you can see differences between PHP and Python.\n",
    "\n",
    "<img src=\"https://dl.dropboxusercontent.com/u/90219577/Hermon/CSE_Website/webdev/16/agario.png\">\n",
    "\n",
    "In our example, a variable named <b>\"&#36;x\"</b> is used. As you can see, <b><u>variables in PHP always start with a \"&#36;\" character.</u></b> It's easy to forget this at first, but it's absolutely necessary to remember or else the script doesn't work.\n",
    "\n",
    "First the variable <b>\"&#36;x\"</b> was set to be equal to 1. Then the loop asks the server to repeat the text while <b>\"&#36;x\"</b> is less or equal to 50. In each loop, the variable <b>\"&#36;x\"</b> will be increased by 1 the same way we did it in Python."
   ]
  },
  {
   "cell_type": "markdown",
   "metadata": {},
   "source": [
    "## for( ) loops"
   ]
  },
  {
   "cell_type": "markdown",
   "metadata": {},
   "source": [
    "Another type of loop is the <b>for( ) loop</b>. The syntax is shown as follows:\n",
    "\n",
    "\t\n",
    "<center><h3>for (Initialization; Condition; Step) {Statement}</h3></center>\n",
    "\t\n",
    "\t\n",
    "The statement is repeated as long as '<b>Initialization</b>' + '<b>Step</b>' meets the '<b>Condition</b>'. Hopefully that will make sens from the following example:\n",
    "\n",
    "<img src=\"https://dl.dropboxusercontent.com/u/90219577/Hermon/CSE_Website/webdev/16/fives.png\">\n",
    "\n",
    "In the example above, <b>\"&#36;x\"</b> is growing with the value 5 in each loop. The loop will continue as long as <b>\"&#36;x\"</b> is below or equals 50. Also note how the value <b>\"&#36;x\"</b> is used as part of the statement.\n"
   ]
  },
  {
   "cell_type": "markdown",
   "metadata": {},
   "source": [
    "## loops within loops"
   ]
  },
  {
   "cell_type": "markdown",
   "metadata": {},
   "source": [
    "In principle, there are no limitations on how many loops can be used. For instance, you can easily put loops inside loops and thereby create many repeats. Remember the box function in Python? Try the following loop and change the height and width conditions.\n",
    "\n",
    "<img src=\"https://dl.dropboxusercontent.com/u/90219577/Hermon/CSE_Website/webdev/16/loopy.png\">"
   ]
  },
  {
   "cell_type": "markdown",
   "metadata": {},
   "source": [
    "<table width=\"100%\" border=\"1\" cellpadding=\"2\" cellspacing=\"0\">\n",
    "<tr>\n",
    "<td width=\"90\" bgcolor=\"#0000FF\" style=\"vertical-align:top\"><img src=\"https://dl.dropboxusercontent.com/u/90219577/Hermon/CSE_Website/webdev/00/WebWiz.png\" style=\"border:2px solid #021a40;\"><center><b>\n",
    "<font color=\"#FFFFFF\">Web<br>Wizardry<br>Task</font></b></center></td>\n",
    "<td valign=\"top\">\n",
    "<center><h1>Looping Headers</h1></center><br>\n",
    "<b><center>\n",
    "Use a simple for( ) loop to generate the following six headers. Use CSS to give them their colors.\n",
    "\n",
    "<h3><u>Webpage Output</u>:</h3>\n",
    "<img src=\"https://dl.dropboxusercontent.com/u/90219577/Hermon/CSE_Website/webdev/16/headings.png\">\n",
    "</td></tr></table>"
   ]
  },
  {
   "cell_type": "markdown",
   "metadata": {},
   "source": [
    "<table width=\"100%\" cellpadding=\"2\" cellspacing=\"2\">\n",
    "<tr>\n",
    "<td style=\"border: 1px solid white;\" width=\"100px\">\n",
    "<div>\n",
    "<a href=\"http://nbviewer.ipython.org/github/CSE-UHS/Web-Development/blob/master/Chapter15.ipynb\"><img src=\"https://dl.dropboxusercontent.com/u/90219577/Hermon/CSE_Website/webdev/leftA.png\" height=\"50px\" width=\"50px\" align=\"left\"></a>\n",
    "</div>\n",
    "</td>\n",
    "<td style=\"border: 1px solid white;\">\n",
    "<div align=\"center\">\n",
    "<a href=\"http://nbviewer.ipython.org/github/CSE-UHS/Web-Development/blob/master/Chapter00.ipynb\"><h2>Table of Contents</h2></a>\n",
    "</div>\n",
    "</td>\n",
    "<td style=\"border: 1px solid white;\" width=\"100px\">\n",
    "<div>\n",
    "<a href=\"http://nbviewer.ipython.org/github/CSE-UHS/Web-Development/blob/master/Chapter17.ipynb\"><img src=\"https://dl.dropboxusercontent.com/u/90219577/Hermon/CSE_Website/webdev/rightA.png\"  height=\"50px\" width=\"50px\"  align=\"right\"></a>\n",
    "</div>\n",
    "</td>\n",
    "</tr></table>"
   ]
  }
 ],
 "metadata": {
  "kernelspec": {
   "display_name": "Python 2",
   "language": "python",
   "name": "python2"
  },
  "language_info": {
   "codemirror_mode": {
    "name": "ipython",
    "version": 2
   },
   "file_extension": ".py",
   "mimetype": "text/x-python",
   "name": "python",
   "nbconvert_exporter": "python",
   "pygments_lexer": "ipython2",
   "version": "2.7.10"
  }
 },
 "nbformat": 4,
 "nbformat_minor": 0
}

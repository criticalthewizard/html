{
 "cells": [
  {
   "cell_type": "markdown",
   "metadata": {},
   "source": [
    "<div align=\"right\">\n",
    "<a href=\"http://nbviewer.ipython.org/github/CSE-UHS/Web-Development/blob/master/Chapter00.ipynb\" align=\"right\"><h2>Table of Contents</h2></a>\n",
    "</div>"
   ]
  },
  {
   "cell_type": "markdown",
   "metadata": {},
   "source": [
    "# Chapter 5: Tables"
   ]
  },
  {
   "cell_type": "markdown",
   "metadata": {},
   "source": [
    "Tables are used when you need to show \"tabular data\" or information that is logically presented in rows and columns. Theoretically, you can insert anything in tables: text, links and images... BUT tables are meant for presenting tabular data so we generally refrain from putting things into tables simply because we want them to be placed next to each other.\n",
    "\n",
    "Not too long ago tables WERE often used as a layout tool and I admit I still have a hard time not using it for that purpose. But if you want to control the presentation of text and images there is a much cooler way to do it called CSS which we will learn about later.\n",
    "\n",
    "Let's dive into the structural code of a table!"
   ]
  },
  {
   "cell_type": "markdown",
   "metadata": {},
   "source": [
    "## Table Structure"
   ]
  },
  {
   "cell_type": "markdown",
   "metadata": {},
   "source": [
    "Below is the HTML for a simple table. It should be in the body section of your webpage.<br>\n",
    "<img src=\"https://dl.dropboxusercontent.com/u/90219577/Hermon/CSE_Website/webdev/05/table1.png\">\n",
    "<br>\n",
    "Below is the output or how it would appear in a browser.<br>\n",
    "<img src=\"https://dl.dropboxusercontent.com/u/90219577/Hermon/CSE_Website/webdev/05/table2.png\"><br>\n",
    "\n",
    "As you will see from the above example, this is probably the most complicated HTML example we have given you so far. Let's break it down and explain the different tags:\n",
    "\n",
    "<u>3 different elements are used to insert tables</u>:\n",
    "\n",
    "The opening tag <b>&lt;table&gt;</b> and the closing tag <b>&lt;/table&gt;</b> starts and ends the table.<br>\n",
    "<b>&lt;tr&gt;</b> stands for \"table row\" and starts and ends horizontal rows.<br>\n",
    "<b>&lt;td&gt;</b> is short for \"table data\". This tag starts and ends each cell in the rows of your table.<br><br>\n",
    "Here is what happens in the example above: the table starts with a <b>&lt;table&gt;</b>, followed by a <b>&lt;tr&gt;</b>, which indicates the beginning of a new row. Two cells are inserted in this row: <b>&lt;td&gt;</b>Cell 1<b>&lt;/td&gt;</b> and <b>&lt;td&gt;</b>Cell 2<b>&lt;/td&gt;</b>. The row is hereafter closed with a <b>&lt;/tr&gt;</b> and a new row <b>&lt;tr&gt;</b> begins immediately after. The new row also contains two cells. The table is closed with <b>&lt;/table&gt;</b>.<br>\n",
    "\n",
    "Just to make it clear: rows are horizontal lines of cells and columns are vertical lines of cells:<br>\n",
    "\n",
    "<img src=\"https://dl.dropboxusercontent.com/u/90219577/Hermon/CSE_Website/webdev/05/table2.png\"><br>\n",
    "Cell 1 and Cell 2 form a row. Cell 1 and Cell 3 form a column. In the above example, the table has two rows and two columns. However, a table can have an unlimited number of rows and columns.\n",
    "<h3>Header Cells</h3>\n",
    "Although not shown above there is another handy tag called a table header tag that looks like <b>&lt;th&gt;</b>.\n",
    "\n",
    "So in reality an HTML table has two kinds of cells:\n",
    "\n",
    "Header cells - contains header information (created with the <b>&lt;th&gt;</b> element)<br>\n",
    "Standard cells - contains data (created with the <b>&lt;td&gt;</b> element)<br><br>\n",
    "The text in <b>&lt;th&gt;</b> elements are bold and centered by default. The text in <b>&lt;td&gt;</b> elements are regular and left-aligned by default.\n",
    "    "
   ]
  },
  {
   "cell_type": "markdown",
   "metadata": {},
   "source": [
    "## Other Table Attributes"
   ]
  },
  {
   "cell_type": "markdown",
   "metadata": {},
   "source": [
    "Below is the HTML for another table that uses several attributes. Again it should be in the body section of your webpage.<br>\n",
    "<img src=\"https://dl.dropboxusercontent.com/u/90219577/Hermon/CSE_Website/webdev/05/table3.png\">\n",
    "<br>\n",
    "Below is the output or how it would appear in a browser.<br>\n",
    "<img src=\"https://dl.dropboxusercontent.com/u/90219577/Hermon/CSE_Website/webdev/05/table4.png\"><br>\n",
    "\n",
    "The <b>border, cellspacing and cellpadding</b> attributes are all in pixels. Change these one at a time to determine how they change the look of the table. The <b>width</b> attribute can either be in pixels or percentage of the screen. The <b>bgcolor</b> attribute could color the background of the entire table, row or individual cell. The cell will override a row which will override the table. The <b>align</b> attribute is a horizontal alignment of content and can be left, center or right. The <b>valign</b> attribute is a vertical alignment of content and can be top, center, bottom."
   ]
  },
  {
   "cell_type": "markdown",
   "metadata": {},
   "source": [
    "# Rowspan and Colspan"
   ]
  },
  {
   "cell_type": "markdown",
   "metadata": {},
   "source": [
    "Below is the HTML showing how to use the attributes <b>rowspan and colspan</b>. This can be kind of tricky and you need to keep track of how many rows and columns of cells are in your entire table. Again it should be in the body section of your webpage.<br>\n",
    "<img src=\"https://dl.dropboxusercontent.com/u/90219577/Hermon/CSE_Website/webdev/05/table5.png\">\n",
    "<br>\n",
    "Below is the output or how it would appear in a browser.<br>\n",
    "<img src=\"https://dl.dropboxusercontent.com/u/90219577/Hermon/CSE_Website/webdev/05/table6.png\"><br>\n",
    "\n",
    "The hope is that through examination of the above HTML code, you can understand how these two attributes are being used to create the output table. If this is confusing to you please ask your instructor for clarification."
   ]
  },
  {
   "cell_type": "markdown",
   "metadata": {},
   "source": [
    "<table width=\"100%\" border=\"1\" cellpadding=\"2\" cellspacing=\"0\">\n",
    "<tr>\n",
    "<td width=\"90\" bgcolor=\"#0000FF\" style=\"vertical-align:top\"><img src=\"https://dl.dropboxusercontent.com/u/90219577/Hermon/CSE_Website/webdev/00/WebWiz.png\" style=\"border:2px solid #021a40;\"><center><b>\n",
    "<font color=\"#FFFFFF\">Web<br>Wizardry<br>Task</b></center></font></td>\n",
    "<td valign=\"top\">\n",
    "<center><h1><u>Tablify</u></h1></center><br>\n",
    "<font size=\"+0\"><center><b>Update your website to display some tabular data in a nice looking chart of something that is of interest to you such as a price list of cars. Feel free to insert images into table cells. You could also use some data from a scientific inquiry that you performed in chemistry or physics.</b></font></center>\n",
    "</td></tr></table>"
   ]
  },
  {
   "cell_type": "markdown",
   "metadata": {},
   "source": [
    "<table width=\"100%\" cellpadding=\"2\" cellspacing=\"2\">\n",
    "<tr>\n",
    "<td style=\"border: 1px solid white;\" width=\"100px\">\n",
    "<div>\n",
    "<a href=\"http://nbviewer.ipython.org/github/CSE-UHS/Web-Development/blob/master/Chapter04.ipynb\"><img src=\"https://dl.dropboxusercontent.com/u/90219577/Hermon/CSE_Website/webdev/leftA.png\" height=\"50px\" width=\"50px\" align=\"left\"></a>\n",
    "</div>\n",
    "</td>\n",
    "<td style=\"border: 1px solid white;\">\n",
    "<div align=\"center\">\n",
    "<a href=\"http://nbviewer.ipython.org/github/CSE-UHS/Web-Development/blob/master/Chapter00.ipynb\"><h2>Table of Contents</h2></a>\n",
    "</div>\n",
    "</td>\n",
    "<td style=\"border: 1px solid white;\" width=\"100px\">\n",
    "<div>\n",
    "<a href=\"http://nbviewer.ipython.org/github/CSE-UHS/Web-Development/blob/master/Chapter06.ipynb\"><img src=\"https://dl.dropboxusercontent.com/u/90219577/Hermon/CSE_Website/webdev/rightA.png\"  height=\"50px\" width=\"50px\"  align=\"right\"></a>\n",
    "</div>\n",
    "</td>\n",
    "</tr></table>"
   ]
  }
 ],
 "metadata": {
  "kernelspec": {
   "display_name": "Python 2",
   "language": "python",
   "name": "python2"
  },
  "language_info": {
   "codemirror_mode": {
    "name": "ipython",
    "version": 2
   },
   "file_extension": ".py",
   "mimetype": "text/x-python",
   "name": "python",
   "nbconvert_exporter": "python",
   "pygments_lexer": "ipython2",
   "version": "2.7.10"
  }
 },
 "nbformat": 4,
 "nbformat_minor": 0
}

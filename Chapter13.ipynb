{
 "cells": [
  {
   "cell_type": "markdown",
   "metadata": {},
   "source": [
    "<div align=\"right\">\n",
    "<a href=\"http://nbviewer.ipython.org/github/CSE-UHS/Web-Development/blob/master/Chapter00.ipynb\" align=\"right\"><h2>Table of Contents</h2></a>\n",
    "</div>"
   ]
  },
  {
   "cell_type": "markdown",
   "metadata": {},
   "source": [
    "# Chapter 13: The Box Model"
   ]
  },
  {
   "cell_type": "markdown",
   "metadata": {},
   "source": [
    "The box model in CSS describes the boxes which are being generated for HTML-elements. The box model also contains detailed options regarding adjusting margin, border, padding and content for each element. The diagram below shows how the box model is constructed:\n",
    "\n",
    "<img src=\"https://dl.dropboxusercontent.com/u/90219577/Hermon/CSE_Website/webdev/13/box.png\">\n",
    "\n",
    "The illustration above might seem pretty theoretical to look at, so let's try to use the model in an actual case with a headline and some text. The HTML for our example is (from the Universal Declaration of Human Rights). We can add some color and font-information with some CSS but we won't show that here. \n",
    "<img src=\"https://dl.dropboxusercontent.com/u/90219577/Hermon/CSE_Website/webdev/13/article1.png\">\n",
    "\n",
    "The example contains two elements: <b>&lt;h1&gt;</b> and <b>&lt;p&gt;</b>. The box model for the two elements can be illustrated as follows:\n",
    "\n",
    "<img src=\"https://dl.dropboxusercontent.com/u/90219577/Hermon/CSE_Website/webdev/13/boxed.png\">\n",
    "\n",
    "Even though it may look a bit complicated, the illustration shows how each HTML-element is surrounded by boxes. Boxes which we can adjust using CSS. The properties which regulate the different boxes are: <b>margin, padding</b> and <b>border</b>. Once we have discussed these, you will master the box model and be able to layout your documents much finer and more precise than in the old fashion method of using tables in HTML."
   ]
  },
  {
   "cell_type": "markdown",
   "metadata": {},
   "source": [
    "## Setting Margin"
   ]
  },
  {
   "cell_type": "markdown",
   "metadata": {},
   "source": [
    "An element has four sides: right, left, top and bottom. The margin is the distance from each side to the neighboring element (or the borders of the document). As the first example, we will look at how you define margins for the document itself (for the element <b>&lt;body&gt;</b>). The illustration below shows how we want the margins in our pages to be.\n",
    "\n",
    "<img src=\"https://dl.dropboxusercontent.com/u/90219577/Hermon/CSE_Website/webdev/13/margin.png\">\n",
    "\n",
    "The CSS would look like the following: The order is clockwise from the top: <b>top, right, bottom, left</b>. Notice you can do this on any element, not just the actual page. Here we also used it in the paragraph tag.\n",
    "\n",
    "<h3>body {margin: 100px 40px 10px 70px;}<br>\n",
    "\n",
    "p {margin: 5px 50px 5px 50px;}</h3>"
   ]
  },
  {
   "cell_type": "markdown",
   "metadata": {},
   "source": [
    "## Setting Padding"
   ]
  },
  {
   "cell_type": "markdown",
   "metadata": {},
   "source": [
    "Padding can also be understood as \"filling\". This makes sense as padding does not affect the distance of the element to other elements but only defines the inner distance between the border and the content of the element. The usage of padding can be illustrated by looking at a simple example where all headlines have background colors:\n",
    "\t\n",
    "<img src=\"https://dl.dropboxusercontent.com/u/90219577/Hermon/CSE_Website/webdev/13/headers1.png\">\n",
    "\t\n",
    "By defining padding for the headlines, you change how much filling there will be around the text in each headline:\n",
    "\n",
    "<img src=\"https://dl.dropboxusercontent.com/u/90219577/Hermon/CSE_Website/webdev/13/headers.png\">\n"
   ]
  },
  {
   "cell_type": "markdown",
   "metadata": {},
   "source": [
    "## Setting Border"
   ]
  },
  {
   "cell_type": "markdown",
   "metadata": {},
   "source": [
    "Borders can be used for many things, for example as a decorative element or to underline a separation of two things. CSS gives you endless options when using borders in your pages.\n",
    "\n",
    "<h3>border-width</h3>\n",
    "The width of borders is defined by the property <b>border-width</b>, which can obtain the values <b>thin, medium</b>, and <b>thick</b>, or a <b>numeric value</b>, indicated in pixels. The figure below illustrates the system:\n",
    "<img src=\"https://dl.dropboxusercontent.com/u/90219577/Hermon/CSE_Website/webdev/13/thick.png\">\n",
    "\n",
    "<h3>border-color</h3>\n",
    "The property <b>border-color</b> defines which color the border has. The values are the normal color-values for example <b>\"#123456\", \"rgb(123,123,123)\" or \"yellow\"</b>.\n",
    "<img src=\"https://dl.dropboxusercontent.com/u/90219577/Hermon/CSE_Website/webdev/13/colors.gif\">\n",
    "\n",
    "<h3>border-style</h3>\n",
    "There are different types of borders to choose from. Below are shown 8 different types of borders. All examples are shown with the color \"gold\" and the thickness \"thick\" but can naturally be shown in other colors and thicknesses. The values none or hidden can be used if you do not want any border.\n",
    "<img src=\"https://dl.dropboxusercontent.com/u/90219577/Hermon/CSE_Website/webdev/13/type.png\">\n",
    "\n",
    "<h3>border special properties</h3>\n",
    "It is also possible to state special properties for top-, bottom-, right- or left borders. The following example shows you how:\n",
    "<img src=\"https://dl.dropboxusercontent.com/u/90219577/Hermon/CSE_Website/webdev/13/borderexample.png\">\n",
    "<img src=\"https://dl.dropboxusercontent.com/u/90219577/Hermon/CSE_Website/webdev/13/diffcolor.png\">\n",
    "\n",
    "\n",
    "<h3>border compilation</h3>\n",
    "As it is also the case for many other properties, you can compile many properties into one using <b>border</b> as seen below:. \n",
    "<center><h2>p {border: 1px solid blue;}</h2></center>"
   ]
  },
  {
   "cell_type": "markdown",
   "metadata": {},
   "source": [
    "## Setting Height and Width"
   ]
  },
  {
   "cell_type": "markdown",
   "metadata": {},
   "source": [
    "With the <b>width</b> and <b>height</b> properties, you can define sizes of an element. If the <b>width</b> property is used by itself the height will auto-adjust to the amount of content. In our example we will go ahead and include a <b>height</b> property. The simple example below provides us with a box wherein text can be typed:\n",
    "\n",
    "<img src=\"https://dl.dropboxusercontent.com/u/90219577/Hermon/CSE_Website/webdev/13/boxcode.png\">\n",
    "\n",
    "<img src=\"https://dl.dropboxusercontent.com/u/90219577/Hermon/CSE_Website/webdev/13/box2.png\">\n",
    "\t\n",
    "\t\n",
    "As you can probably see, the box model gives you many new options. You might have been using tables in HTML to create your layouts until now (as unfortunately your instructor has), but with CSS and the box model you should now be able to achieve elegant layouts more precisely and in accordance with the recommendations of W3C."
   ]
  },
  {
   "cell_type": "markdown",
   "metadata": {},
   "source": [
    "<table width=\"100%\" border=\"1\" cellpadding=\"2\" cellspacing=\"0\">\n",
    "<tr>\n",
    "<td width=\"90\" bgcolor=\"#0000FF\" style=\"vertical-align:top\"><img src=\"https://dl.dropboxusercontent.com/u/90219577/Hermon/CSE_Website/webdev/00/WebWiz.png\" style=\"border:2px solid #021a40;\"><center><b>\n",
    "<font color=\"#FFFFFF\">Web<br>Wizardry<br>Task</font></b></center></td>\n",
    "<td valign=\"top\">\n",
    "<center><h1><u>Self-Guided Testing</u></h1></center><br>\n",
    "<font size=\"+0\"><center><b>There is no assigned task this time but make sure you are testing what you are learning on your website.</b></center></font>\n",
    "</td></tr></table>"
   ]
  },
  {
   "cell_type": "markdown",
   "metadata": {},
   "source": [
    "<table width=\"100%\" cellpadding=\"2\" cellspacing=\"2\">\n",
    "<tr>\n",
    "<td style=\"border: 1px solid white;\" width=\"100px\">\n",
    "<div>\n",
    "<a href=\"http://nbviewer.ipython.org/github/CSE-UHS/Web-Development/blob/master/Chapter12.ipynb\"><img src=\"https://dl.dropboxusercontent.com/u/90219577/Hermon/CSE_Website/webdev/leftA.png\" height=\"50px\" width=\"50px\" align=\"left\"></a>\n",
    "</div>\n",
    "</td>\n",
    "<td style=\"border: 1px solid white;\">\n",
    "<div align=\"center\">\n",
    "<a href=\"http://nbviewer.ipython.org/github/CSE-UHS/Web-Development/blob/master/Chapter00.ipynb\"><h2>Table of Contents</h2></a>\n",
    "</div>\n",
    "</td>\n",
    "<td style=\"border: 1px solid white;\" width=\"100px\">\n",
    "<div>\n",
    "<a href=\"http://nbviewer.ipython.org/github/CSE-UHS/Web-Development/blob/master/Chapter14.ipynb\"><img src=\"https://dl.dropboxusercontent.com/u/90219577/Hermon/CSE_Website/webdev/rightA.png\"  height=\"50px\" width=\"50px\"  align=\"right\"></a>\n",
    "</div>\n",
    "</td>\n",
    "</tr></table>"
   ]
  }
 ],
 "metadata": {
  "kernelspec": {
   "display_name": "Python 2",
   "language": "python",
   "name": "python2"
  },
  "language_info": {
   "codemirror_mode": {
    "name": "ipython",
    "version": 2
   },
   "file_extension": ".py",
   "mimetype": "text/x-python",
   "name": "python",
   "nbconvert_exporter": "python",
   "pygments_lexer": "ipython2",
   "version": "2.7.10"
  }
 },
 "nbformat": 4,
 "nbformat_minor": 0
}

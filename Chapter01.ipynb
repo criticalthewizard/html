{
 "cells": [
  {
   "cell_type": "markdown",
   "metadata": {},
   "source": [
    "<div align=\"right\">\n",
    "<a href=\"http://nbviewer.ipython.org/github/CSE-UHS/Web-Development/blob/master/Chapter00.ipynb\" align=\"right\"><h2>Table of Contents</h2></a>\n",
    "</div>"
   ]
  },
  {
   "cell_type": "markdown",
   "metadata": {},
   "source": [
    "# Chapter 1: Creating and Publishing a Website"
   ]
  },
  {
   "cell_type": "markdown",
   "metadata": {},
   "source": [
    "## Using Text Wrangler"
   ]
  },
  {
   "cell_type": "markdown",
   "metadata": {},
   "source": [
    "We don't need much to learn web development. Really, all we need are 3 things: a text editor program, some server space to upload our files to the internet and a browser to view our webpage.\n",
    "\n",
    "You have a \"browser\". A browser is the program that makes it possible to browse and open websites. Right now you are looking at this page in your browser. It is not important which browser you use. The most common is Microsoft Internet Explorer. But there are others such as Safari, Firefox and Chrome and they can all be used.\n",
    "\n",
    "We also need a simple text editor. Windows offers Notepad, which is usually found in the start menu under Programs in Accessories and Macs offer TextEdit. We of course have been using a simple text editor called Canopy and if you went to the bottom left of the Canopy editor you could switch the language to HTML, however, we are going to try and broaden our horizons and learn how to use another text editing program called \"Text Wrangler\" which you can find in your Applications folder.\n",
    "<center><img src=\"https://dl.dropboxusercontent.com/u/90219577/Hermon/CSE_Website/webdev/01/textW.jpg\"></center>\n",
    "There are plenty of online videos to help you learn more about how to use Text Wrangler. Start by opening a new file in Text Wrangler and then watch the video below to learn some of the important basics. Under Preferences you can also change the color themes of the editor window. There has always been an ongoing debate on whether using a dark or white background screen is better on the eyes. Finally, as it shows in the video select HTML from the drop down of languages at the bottom of the screen.\n",
    "    <center><iframe width=\"640\" height=\"360\" src=\"https://www.youtube.com/embed/1kSsqic-aKo?list=PLhy-Ne6FAXKbMbdotOvRNR0JdG2KoWgXF\" frameborder=\"0\" allowfullscreen></iframe></center>"
   ]
  },
  {
   "cell_type": "markdown",
   "metadata": {},
   "source": [
    "## What is HTML?"
   ]
  },
  {
   "cell_type": "markdown",
   "metadata": {},
   "source": [
    "HTML is the \"mother tongue\" of your browser. HTML was invented in 1990 by a scientist called Tim Berners-Lee. The purpose was to make it easier for scientists at different universities to gain access to each other's research documents. By inventing HTML he laid the foundation for the web as we know it today.\n",
    "\n",
    "HTML is a language, which makes it possible to present information on the Internet. What you see when you view a page on the Internet is your browser's interpretation of HTML. To see the HTML code of a page on the Internet, simply click \"View\" in the top menu of your browser and then Developer - View Source. This code might look complicated but if you want to make websites, there is no way around HTML. Even if you're using a program to create websites, such as Dreamweaver, a basic knowledge of HTML can make life a lot simpler and your website a lot better. The good news is that HTML is easy to learn and use. In fact, by the end of this first chapter you will have made your first website. (It won't be very impressive but you will feel a rush of power!)\n",
    "\n",
    "<b>HTML is an abbreviation of \"HyperText Mark-up Language\"</b>\n",
    "\n",
    "<b><u>HyperText</u></b> basically refers to the ability to link text to another page, an image, a sound file or even a mail program.<br>\n",
    "<b><u>Mark-up</u></b> is what you do with the text. You are marking up the text the same way you do in a text editing program with headings, bullets, bold text etc.<br>\n",
    "<b><u>Language</u></b> is what HTML is. It uses many English words.<br><br>\n",
    "We will be learning what is called XHTML (Extensible HyperText Mark-up Language) which, in short, is a new and more well-structured way of writing HTML."
   ]
  },
  {
   "cell_type": "markdown",
   "metadata": {},
   "source": [
    "## Elements and Tags"
   ]
  },
  {
   "cell_type": "markdown",
   "metadata": {},
   "source": [
    "Elements give structure to a HTML document and tells the browser how you want your website to be presented. Generally elements consists of a start tag, some content, and an end tag. Tags are labels you use to mark up the begining and end of an element. All tags have the same format: they begin with a less-than sign \"<\" and end with a greater-than sign \">\".\n",
    "\n",
    "Generally speaking, there are two kinds of tags - opening tags: <b>&lt;b&gt;</b> and closing tags: <b>&lt;/b&gt;</b>. This particular tag is the BOLD tag and would bold any text between the tags. The only difference between an opening tag and a closing tag is the forward slash \"/\". You label content by putting it between an opening tag and a closing tag. \n",
    "\n",
    "As they say, there's an exception to every rule and in HTML the exception is that there are a few elements which both open and close in the same tag. These so-called empty elements are not connected to a specific passage in the text but rather are isolated labels, for example, a line break which looks like this: <b>&lt;br/&gt;</b>. HTML is all about elements. To learn HTML is to learn and use different tags. Below is how to bold, underline and italicize text in HTML using some very simple tags. Below that is how it would be displayed on a website.<br><br>\n",
    "<img src=\"https://dl.dropboxusercontent.com/u/90219577/Hermon/CSE_Website/webdev/01/html.png\">"
   ]
  },
  {
   "cell_type": "markdown",
   "metadata": {},
   "source": [
    "<b>This text will be bold</b><br/>\n",
    "<u>This text will be underlined</u><br/>\n",
    "<i>This text will be italicized</i>"
   ]
  },
  {
   "cell_type": "markdown",
   "metadata": {},
   "source": [
    "## HTML Skeleton"
   ]
  },
  {
   "cell_type": "markdown",
   "metadata": {},
   "source": [
    "HTML is simple and logical. The browser reads HTML like you read English: from the top down and from left to right. Thus, an simple HTML document begins with what should come first and ends with what should come last.\n",
    "\n",
    "The first thing you need to do is to tell the browser that you will \"talk\" to it in the language HTML. This is done by entering the following as your first line:\n",
    "\n",
    "   <b>&lt;!DOCTYPE html&gt;</b>\n",
    "\n",
    "We now want to start our HTML document by typing the opening HTML tag. As you may recall, <b>&lt;html&gt;</b> is an opening tag and must be closed with a closing tag when you are finished typing HTML. So to make sure you don't forget the HTML close tag now type <b>&lt;/html&gt;</b> a couple of lines down and write the rest of the document between <b>&lt;html&gt;</b> and <b>&lt;/html&gt;</b>.\n",
    "\n",
    "The next thing your document needs is a \"head\", which provides information about your document, and a \"body\", which is the content of the document. Since HTML is nothing if not logical, the head (<b>&lt;head&gt;</b> and <b>&lt;/head&gt;</b>) is on top of the body (<b>&lt;body&gt;</b> and <b>&lt;/body&gt;</b>).\n",
    "\n",
    "Your document should now look like this:\n",
    "\n",
    "<center><img src=\"https://dl.dropboxusercontent.com/u/90219577/Hermon/CSE_Website/webdev/01/skeleton.png\"></center>\n",
    "\t\n",
    "Note how we structured the tags with new lines (using the Enter key) as well as indents (using the Tab key). In principle, it does not matter how you structure your HTML document. But to help you, and others reading your coding, to keep an overview, it is strongly recommended that you structure your HTML in a neat way with line breaks and indents, like the above example. If your document looks like the above example, you have set up the basic skeleton that all HTML pages will use."
   ]
  },
  {
   "cell_type": "markdown",
   "metadata": {},
   "source": [
    "## Adding Website Content"
   ]
  },
  {
   "cell_type": "markdown",
   "metadata": {
    "collapsed": false
   },
   "source": [
    "As we just discussed, your HTML document has two parts: a head and a body. In the head section you write information about the page, while the body contains the information that constitutes the page.\n",
    "\n",
    "For example, if you want to give the page a title which will appear in the top bar of the browser, it should be done in the \"head\" section. The element used for a title is <b>title</b>. So, in the head section, write the title of the page between the opening tag <b>&lt;title&gt;</b> and the closing tag <b>&lt;/title&gt;</b>:\n",
    "\n",
    "\t\n",
    "<b>&lt;title&gt;My first website&lt;/title&gt;</b>\n",
    "\t\n",
    "Anything you want to appear on the page is content and must therefore be added between the \"body\" tags. In the body section, type the following using the <b>&lt;p&gt;</b> and <b>&lt;/p&gt;</b> text paragraph texts.\n",
    "\n",
    "\t\n",
    "<b>&lt;p&gt;Hello World! My name is Firstname Lastname&lt;/p&gt;</b>\n",
    "\t\n",
    "\t\n",
    "Your HTML document should now look like this:\n",
    "\n",
    "<center><img src=\"https://dl.dropboxusercontent.com/u/90219577/Hermon/CSE_Website/webdev/01/firstprogram.png\"></center>\n",
    "\t\n",
    "Next all you have to do is to save it to your hard drive and then open it in your browser. In Text Wrangler choose \"Save\" under \"File\" in the top menu. Now save your document as \"index.htm\" (the ending \".htm\" indicates that it is an HTML document. \".html\" gives the same result. I always use \".htm\", but you can choose whichever of the two extensions you prefer). It doesn't matter where you save the document on your hard drive - as long as you remember where you saved it so you can find it again. The filename does not matter either but usually your first landing page of a website is called <b>index.htm</b>\n",
    "\n",
    "To see what your page will look like to others simply open up a browser window and literally drag your file and drop it onto the browser window. This of course does not mean it's actually on the internet. It just let's you see what it will look like. Notice how the title of the website is actually in the tab."
   ]
  },
  {
   "cell_type": "markdown",
   "metadata": {},
   "source": [
    "<center><img src=\"https://dl.dropboxusercontent.com/u/90219577/Hermon/CSE_Website/webdev/01/browser.png\"></center>"
   ]
  },
  {
   "cell_type": "markdown",
   "metadata": {},
   "source": [
    "## FTP and Website Publishing"
   ]
  },
  {
   "cell_type": "markdown",
   "metadata": {},
   "source": [
    "I'm sure you found great satisfaction of viewing your webpage by dropping it on a browser. Now it is time for real satisfaction and become part of the internet. To get your website on the internet, you just need some server space and an FTP program. We have provided each student in this course with server space. Your instructor will provide you with your username and password to access your site. The first thing you will do will be to change your password to something you can remember. To login to your server space you will always go to the following link. You should bookmark this link. We will only be using it to change our password today but we will come back to it in the future.<br><br>\n",
    "<center><a href=\"http://cs.urbandaleschools.com:2030\" target=\"_blank\">http://cs.urbandaleschools.com:2030</a><br>\n",
    "<img src=\"https://dl.dropboxusercontent.com/u/90219577/Hermon/CSE_Website/webdev/01/centos.png\"></center>\n",
    "\n",
    "Once you login you will click on the change password button as seen below and change your password. You then can log out.\n",
    "<br>\n",
    "<img src=\"https://dl.dropboxusercontent.com/u/90219577/Hermon/CSE_Website/webdev/01/changepass.png\">\n",
    "\n",
    " Your website url will be http://cs.urbandaleschools.com/~username/.  If you navigate to your website you will see a standard holding page. Please bookmark your webpage. Your webspace already comes with an <b>index.html</b> file. We will be replacing it with your file.\n",
    "\n",
    "To access the server and upload your pages, you will need an FTP program. FTP is short for <b><u>File Transfer Protocol</u></b>. A FTP program is used to connect two computers over the Internet so that you can transfer files from your computer to another computer (the server). In this course we will be using the FTP program called <b>Fetch</b> primarily because it's icon is a cute little puppy!<br><br>\n",
    "\n",
    "<center><img src=\"https://dl.dropboxusercontent.com/u/90219577/Hermon/CSE_Website/webdev/01/fetch.jpg\"></center>\n",
    "\n",
    "<b><u>FTP Directions Using Fetch</u>:</b><br>\n",
    "1.) Open the FTP program Fetch. It should look like the following<br>\n",
    "<center><img src= \"https://dl.dropboxusercontent.com/u/90219577/Hermon/CSE_Website/webdev/01/fetch1.png\"></center>\n",
    "2.) Enter Hostname: <b>cs.urbandaleschools.com</b><br>\n",
    "3.) Enter Username and Password<br>\n",
    "4.) Click on the heart icon and select Make Shortcut<br>\n",
    "5.) Enter your username for the shortcut.<br>\n",
    "6.) Click Connect. Once the puppy gets done fetching your server connection it should look like the following<br>\n",
    "<center><img src= \"https://dl.dropboxusercontent.com/u/90219577/Hermon/CSE_Website/webdev/01/fetch2.png\"></center>\n",
    "7.) You will see a <b>public_html</b> folder. Your website will go inside that folder. Double-Click the folder to open it up.<br>\n",
    "<center><img src= \"https://dl.dropboxusercontent.com/u/90219577/Hermon/CSE_Website/webdev/01/Fetch3.png\"></center>\n",
    "8.) You will now see a file called <b>index.html</b> and a folder called <b>img</b>. The index file is the place-holder for your website. The <b>img</b> folder can be a place that will hold any images on your website. There is currently one image in the folder that is used in the index file.<br>\n",
    "9.) You can now add files and folders to your server space simply by dropping them into the Fetch window. Right-click on the current index file and select Delete Item.<br>\n",
    "10.) Drag and drop your new index file into the Fetch window.<br>\n",
    "\n",
    "Now if you open a browser and navigate to http://cs.urbandaleschools.com/~username/ you will actually open http://cs.urbandaleschools.com/~username/index.htm and will see your first published webpage.<br>\n",
    "\n",
    "<H1><b>Admit it! You feel powerful don't you!</b></H1>\n"
   ]
  },
  {
   "cell_type": "markdown",
   "metadata": {},
   "source": [
    "<table width=\"100%\" border=\"1\" cellpadding=\"2\" cellspacing=\"0\">\n",
    "<tr>\n",
    "<td width=\"90\" bgcolor=\"#0000FF\" style=\"vertical-align:top\"><img src=\"https://dl.dropboxusercontent.com/u/90219577/Hermon/CSE_Website/webdev/00/WebWiz.png\" style=\"border:2px solid #021a40;\"><center><b>\n",
    "<font color=\"#FFFFFF\">Web<br>Wizardry<br>Task</font></b></center></td>\n",
    "<td valign=\"top\"><center><h1><u>Hello World!</u></h1></center><br>\n",
    "<font size=\"+0\"><center><b>Show your instructor your online \"Hello World\" website.</b></center></font></td></tr></table>"
   ]
  },
  {
   "cell_type": "markdown",
   "metadata": {},
   "source": [
    "<table width=\"100%\" cellpadding=\"2\" cellspacing=\"2\">\n",
    "<tr>\n",
    "<td style=\"border: 1px solid white;\" width=\"100px\">\n",
    "\n",
    "</td>\n",
    "<td style=\"border: 1px solid white;\">\n",
    "<div align=\"center\">\n",
    "<a href=\"http://nbviewer.ipython.org/github/CSE-UHS/Web-Development/blob/master/Chapter00.ipynb\"><h2>Table of Contents</h2></a>\n",
    "</div>\n",
    "</td>\n",
    "<td style=\"border: 1px solid white;\" width=\"100px\">\n",
    "<div>\n",
    "<a href=\"http://nbviewer.ipython.org/github/CSE-UHS/Web-Development/blob/master/Chapter02.ipynb\"><img src=\"https://dl.dropboxusercontent.com/u/90219577/Hermon/CSE_Website/webdev/rightA.png\"  height=\"50px\" width=\"50px\"  align=\"right\"></a>\n",
    "</div>\n",
    "</td>\n",
    "</tr></table>"
   ]
  }
 ],
 "metadata": {
  "kernelspec": {
   "display_name": "Python 2",
   "language": "python",
   "name": "python2"
  },
  "language_info": {
   "codemirror_mode": {
    "name": "ipython",
    "version": 2
   },
   "file_extension": ".py",
   "mimetype": "text/x-python",
   "name": "python",
   "nbconvert_exporter": "python",
   "pygments_lexer": "ipython2",
   "version": "2.7.10"
  }
 },
 "nbformat": 4,
 "nbformat_minor": 0
}

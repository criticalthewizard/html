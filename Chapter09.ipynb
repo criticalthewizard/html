{
 "cells": [
  {
   "cell_type": "markdown",
   "metadata": {},
   "source": [
    "<div align=\"right\">\n",
    "<a href=\"http://nbviewer.ipython.org/github/CSE-UHS/Web-Development/blob/master/Chapter00.ipynb\" align=\"right\"><h2>Table of Contents</h2></a>\n",
    "</div>"
   ]
  },
  {
   "cell_type": "markdown",
   "metadata": {},
   "source": [
    "# Chapter 9: Fonts"
   ]
  },
  {
   "cell_type": "markdown",
   "metadata": {},
   "source": [
    "In this lesson you will learn about fonts and how they are applied using CSS. We will also look at how to work around the issue that specific fonts chosen for a website can only be seen if the font is installed on the PC used to access the website. The following CSS properties will be described:\n",
    "\n",
    "<b>font-family<br>\n",
    "font-style<br>\n",
    "font-variant<br>\n",
    "font-weight<br>\n",
    "font-size<br>\n",
    "font</b>"
   ]
  },
  {
   "cell_type": "markdown",
   "metadata": {},
   "source": [
    "## Font family [font-family]"
   ]
  },
  {
   "cell_type": "markdown",
   "metadata": {},
   "source": [
    "The property <b>font-family</b> is used to set a prioritized list of fonts to be used to display a given element or web page. If the first font on the list is not installed on the computer used to access the site, the next font on the list will be tried until a suitable font is found.\n",
    "\n",
    "There are two types of names used to categorize fonts: <b>family-names</b> and <b>generic families</b>. The two terms are explained below.\n",
    "\n",
    "<b>Family-name</b><br>\n",
    "Examples of a family-name (often known as \"font\") can e.g. be <b>\"Arial\"</b>, <b>\"Times New Roman\"</b> or <b>\"Tahoma\"</b>.<br>\n",
    "<b>Generic family</b><br>\n",
    "Generic families can best be described as groups of family-names with uniformed appearances. An example is <b>sans-serif</b>, which is a collection of fonts without \"feet\".<br><br>\n",
    "The difference can also be illustrated like this:\n",
    "\n",
    "<img src=\"https://dl.dropboxusercontent.com/u/90219577/Hermon/CSE_Website/webdev/09/fonts.png\">\n",
    "\n",
    "When you list fonts for your web site, you naturally start with the most preferred font followed by some alternative fonts. It is recommended to complete the list with a generic font family. That way at least the page will be shown using a font of the same family if none of the specified fonts are available.\n",
    "\n",
    "An example of a prioritized list of fonts could look like this:\n",
    "\n",
    "\t\n",
    "<h3>h1 {font-family: arial, verdana, sans-serif;}<br>\n",
    "h2 {font-family: \"Times New Roman\", serif;}</h3>\n",
    "\t\n",
    "\t\n",
    "Headlines marked with <b>&lt;h1&gt;</b> will be displayed using the font \"Arial\". If this font is not installed on the user's computer, \"Verdana\" will be used instead. If both these fonts are unavailable, a font from the sans-serif family will be used to show the headlines.\n",
    "\n",
    "Notice how the font name \"Times New Roman\" contains spaces and therefore is listed using quotation marks."
   ]
  },
  {
   "cell_type": "markdown",
   "metadata": {},
   "source": [
    "## Font style [font-style]"
   ]
  },
  {
   "cell_type": "markdown",
   "metadata": {},
   "source": [
    "The property <b>font-style</b> defines the chosen font either in normal, italic or oblique. In the example below, all headlines marked with <b>&lt;h2&gt;</b> will be shown in italics.\n",
    "\n",
    "\t\n",
    "<h3>h1 {font-family: arial, verdana, sans-serif;}<br>\n",
    "h2 {font-family: \"Times New Roman\", serif; font-style: italic;}</h3>\n"
   ]
  },
  {
   "cell_type": "markdown",
   "metadata": {},
   "source": [
    "## Font variant [font-variant]"
   ]
  },
  {
   "cell_type": "markdown",
   "metadata": {},
   "source": [
    "The property <b>font-variant</b> is used to choose between <b>normal</b> or <b>small-caps</b> variants of a font. A <b>small-caps</b> font is a font that uses smaller sized capitalized letters (upper case) instead of lower case letters. Confused? Take a look at these examples:\n",
    "<img src=\"https://dl.dropboxusercontent.com/u/90219577/Hermon/CSE_Website/webdev/09/fontvar.gif\">\n",
    "\n",
    "If <b>font-variant</b> is set to small-caps and no small-caps font is available, the browser will most likely show the text in uppercase instead.\n",
    "\n",
    "<h3>h1 {font-variant: small-caps;}<br>\n",
    "h2 {font-variant: normal;}</h3>\n"
   ]
  },
  {
   "cell_type": "markdown",
   "metadata": {},
   "source": [
    "## Font weight [font-weight]"
   ]
  },
  {
   "cell_type": "markdown",
   "metadata": {},
   "source": [
    "The property <b>font-weight</b> describes how bold or \"heavy\" a font should be presented. A font can either be normal or bold. Some browsers even support the use of numbers between 100-900 (in hundreds) to describe the weight of a font.\n",
    "\n",
    "\t\n",
    "<h3>p {font-family: arial, verdana, sans-serif;}<br>\n",
    "td {font-family: arial, verdana, sans-serif; font-weight: bold;}</h3>"
   ]
  },
  {
   "cell_type": "markdown",
   "metadata": {},
   "source": [
    "## Font size [font-size]"
   ]
  },
  {
   "cell_type": "markdown",
   "metadata": {},
   "source": [
    "The size of a font is set by the property <b>font-size</b>.\n",
    "\n",
    "There are many different units (e.g. pixels and percentages) to choose from to describe font sizes. We will focus on the most common and appropriate units. Examples include:\n",
    "\n",
    "\t\n",
    "<h3>h1 {font-size: 30px;}<br>\n",
    "h2 {font-size: 12pt;}<br>\n",
    "h3 {font-size: 120%;}<br>\n",
    "p {font-size: 1em;}\n",
    "</h3>\t\n",
    "\t\n",
    "There is one key difference between the four units above. The units <b>'px'</b> and <b>'pt'</b> make the font size absolute, while <b>'%'</b> and <b>'em'</b> allow the user to adjust the font size as he/she see fit. Many users are disabled, elderly or simply suffer from poor vision or a monitor of bad quality. To make your website accessible for everybody, you should use adjustable units such as <b>'%'</b> or <b>'em'</b>.\n",
    "\n",
    "You might be curious what <b>'em'</b> stands for. An <b>'em'</b> was originally equivalent to the width of a letter m. <b>'Ems'</b> allow you to change the size of text relative to the size of the text in the parent element. For instance, if the font-size of the document is 12pt, 1em is equal to 12pt. Ems are scalable in nature, so 2em would equal 24pt, .5em would equal 6pt, etc. Ems are becoming increasingly popular in web documents due to scalability and their mobile-device-friendly nature."
   ]
  },
  {
   "cell_type": "markdown",
   "metadata": {},
   "source": [
    "## Compiling [font]"
   ]
  },
  {
   "cell_type": "markdown",
   "metadata": {},
   "source": [
    "Using the font short hand property it is possible to cover all the different font properties in one single property.\n",
    "\n",
    "For example, imagine these four lines of code used to describe font-properties for <b>&lt;p&gt;</b>:\n",
    "\n",
    "\t\n",
    "<h3>p {<br>\n",
    "        font-style: italic;<br>\n",
    "        font-weight: bold;<br>\n",
    "        font-size: 30px;<br>\n",
    "        font-family: arial, sans-serif;<br>\n",
    "    }</h3>\n",
    "\t\n",
    "\t\n",
    "Using the short hand property, the code can be simplified:\n",
    "<h3>p {font: italic bold 30px arial, sans-serif;}</h3>\n",
    "\t\n",
    "\t\n",
    "<br>The order of values for <b>font</b> is:\n",
    "\n",
    "<center><b>font-style | font-variant | font-weight | font-size | font-family</b></center>\n"
   ]
  },
  {
   "cell_type": "markdown",
   "metadata": {},
   "source": [
    "<table width=\"100%\" border=\"1\" cellpadding=\"2\" cellspacing=\"0\">\n",
    "<tr>\n",
    "<td width=\"90\" bgcolor=\"#0000FF\" style=\"vertical-align:top\"><img src=\"https://dl.dropboxusercontent.com/u/90219577/Hermon/CSE_Website/webdev/00/WebWiz.png\" style=\"border:2px solid #021a40;\"><center><b>\n",
    "<font color=\"#FFFFFF\">Web<br>Wizardry<br>Task</font></b></center></td>\n",
    "<td valign=\"top\">\n",
    "<center><h1><u>Self-Guided Testing</u></h1></center><br>\n",
    "<font size=\"+0\"><center><b>There is no assigned task this time but make sure you are testing what you are learning on your website.</b></center></font>\n",
    "</td></tr></table>"
   ]
  },
  {
   "cell_type": "markdown",
   "metadata": {},
   "source": [
    "<table width=\"100%\" cellpadding=\"2\" cellspacing=\"2\">\n",
    "<tr>\n",
    "<td style=\"border: 1px solid white;\" width=\"100px\">\n",
    "<div>\n",
    "<a href=\"http://nbviewer.ipython.org/github/CSE-UHS/Web-Development/blob/master/Chapter08.ipynb\"><img src=\"https://dl.dropboxusercontent.com/u/90219577/Hermon/CSE_Website/webdev/leftA.png\" height=\"50px\" width=\"50px\" align=\"left\"></a>\n",
    "</div>\n",
    "</td>\n",
    "<td style=\"border: 1px solid white;\">\n",
    "<div align=\"center\">\n",
    "<a href=\"http://nbviewer.ipython.org/github/CSE-UHS/Web-Development/blob/master/Chapter00.ipynb\"><h2>Table of Contents</h2></a>\n",
    "</div>\n",
    "</td>\n",
    "<td style=\"border: 1px solid white;\" width=\"100px\">\n",
    "<div>\n",
    "<a href=\"http://nbviewer.ipython.org/github/CSE-UHS/Web-Development/blob/master/Chapter10.ipynb\"><img src=\"https://dl.dropboxusercontent.com/u/90219577/Hermon/CSE_Website/webdev/rightA.png\"  height=\"50px\" width=\"50px\"  align=\"right\"></a>\n",
    "</div>\n",
    "</td>\n",
    "</tr></table>"
   ]
  }
 ],
 "metadata": {
  "kernelspec": {
   "display_name": "Python 2",
   "language": "python",
   "name": "python2"
  },
  "language_info": {
   "codemirror_mode": {
    "name": "ipython",
    "version": 2
   },
   "file_extension": ".py",
   "mimetype": "text/x-python",
   "name": "python",
   "nbconvert_exporter": "python",
   "pygments_lexer": "ipython2",
   "version": "2.7.10"
  }
 },
 "nbformat": 4,
 "nbformat_minor": 0
}

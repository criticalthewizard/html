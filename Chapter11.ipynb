{
 "cells": [
  {
   "cell_type": "markdown",
   "metadata": {},
   "source": [
    "<div align=\"right\">\n",
    "<a href=\"http://nbviewer.ipython.org/github/CSE-UHS/Web-Development/blob/master/Chapter00.ipynb\" align=\"right\"><h2>Table of Contents</h2></a>\n",
    "</div>"
   ]
  },
  {
   "cell_type": "markdown",
   "metadata": {},
   "source": [
    "# Chapter 11: Link Decoration"
   ]
  },
  {
   "cell_type": "markdown",
   "metadata": {},
   "source": [
    "CSS allows you to define properties of links depending on whether the link is unvisited, visited, active, or whether the cursor is hovering on the link. This makes it possible to add fancy and useful effects to your website. To control these effects you use so-called pseudo-classes."
   ]
  },
  {
   "cell_type": "markdown",
   "metadata": {},
   "source": [
    "## Pseudo Classes"
   ]
  },
  {
   "cell_type": "markdown",
   "metadata": {},
   "source": [
    "A pseudo-class allows you to take into account different conditions or events when defining a property for an HTML tag. As you know, links are specified in HTML with <b>&lt;a&gt;</b> tags. We can therefore use <b>a</b> as a selector in CSS. A link can have different states. For example, it can be <b>visited</b> or <b>not visited</b>. You can use pseudo-classes to assign different styles to visited and unvisited links.\n",
    "\n",
    "Use <b>a:link</b> and <b>a:visited</b> for unvisited and visited links respectively. Links that are active (cursor pressed down) have the pseudo-class <b>a:active</b> and <b>a:hover</b> is when the cursor is on the link.\n",
    "\n",
    "We will now go through each of the four pseudo-classes with examples and further explanation."
   ]
  },
  {
   "cell_type": "markdown",
   "metadata": {},
   "source": [
    "## Pseudo-class: link"
   ]
  },
  {
   "cell_type": "markdown",
   "metadata": {},
   "source": [
    "The pseudo-class <b>a:link</b> is used for links leading to pages that the user has not visited. In the code example below, unvisited links will be light blue.\n",
    "\n",
    "\t\n",
    "<h3>a:link {color: #6699CC;}</h3>"
   ]
  },
  {
   "cell_type": "markdown",
   "metadata": {},
   "source": [
    "## Pseudo-class: visited"
   ]
  },
  {
   "cell_type": "markdown",
   "metadata": {},
   "source": [
    "The pseudo-class <b>a:visited</b> is used for links leading to pages that the user has visited. For example, the code below would make all visited links dark purple:\n",
    "\n",
    "\t\n",
    "<h3>a:visited {color: #660099;}</h3>\n",
    "\t"
   ]
  },
  {
   "cell_type": "markdown",
   "metadata": {},
   "source": [
    "## Pseudo-class: active"
   ]
  },
  {
   "cell_type": "markdown",
   "metadata": {},
   "source": [
    "The pseudo-class <b>a:active</b> is used for links that are active which means the cursor is pressed down on the link. This example gives active links a yellow background color:\n",
    "\n",
    "\t\n",
    "<h3>a:active {background-color: #FFFF00;}</h3>"
   ]
  },
  {
   "cell_type": "markdown",
   "metadata": {},
   "source": [
    "## Pseudo-class: hover"
   ]
  },
  {
   "cell_type": "markdown",
   "metadata": {},
   "source": [
    "The pseudo-class <b>a:hover</b> is used when the mouse pointer hovers over a link. This can be used to create interesting effects. For example, if we want our links to be orange and be italicized when the cursor is pointed at them, our CSS should look like this:\n",
    "\t\n",
    "<h3>a:hover {color: orange; font-style: italic;}</h3>"
   ]
  },
  {
   "cell_type": "markdown",
   "metadata": {},
   "source": [
    "<table width=\"100%\" border=\"1\" cellpadding=\"2\" cellspacing=\"0\">\n",
    "<tr>\n",
    "<td width=\"90\" bgcolor=\"#0000FF\" style=\"vertical-align:top\"><img src=\"https://dl.dropboxusercontent.com/u/90219577/Hermon/CSE_Website/webdev/00/WebWiz.png\" style=\"border:2px solid #021a40;\"><center><b>\n",
    "<font color=\"#FFFFFF\">Web<br>Wizardry<br>Task</font></b></center></td>\n",
    "<td valign=\"top\">\n",
    "<center><h1><u>Hogwarts</u></h1></center><br>\n",
    "<font size=\"+0\"><b>On a webpage put the following HTML code for a link:<br><br>\n",
    "<center>&lt;a href=\"http://harrypotter.wikia.com/wiki/Hogwarts_School_of_Witchcraft_and_Wizardry\" &gt;portkey to hogwarts&lt;/a&gt;</center></b><br><br>\n",
    "Then use CSS to present the link as follows without and during hovering:<br><br>\n",
    "<b>Without hovering:</b><br>\n",
    "<img src=\"https://dl.dropboxusercontent.com/u/90219577/Hermon/CSE_Website/webdev/11/before.png\">\n",
    "<b>During hovering:</b><br>\n",
    "<img src=\"https://dl.dropboxusercontent.com/u/90219577/Hermon/CSE_Website/webdev/11/after.png\">\n",
    "</font>\n",
    "</td></tr></table>"
   ]
  },
  {
   "cell_type": "markdown",
   "metadata": {},
   "source": [
    "<table width=\"100%\" cellpadding=\"2\" cellspacing=\"2\">\n",
    "<tr>\n",
    "<td style=\"border: 1px solid white;\" width=\"100px\">\n",
    "<div>\n",
    "<a href=\"http://nbviewer.ipython.org/github/CSE-UHS/Web-Development/blob/master/Chapter10.ipynb\"><img src=\"https://dl.dropboxusercontent.com/u/90219577/Hermon/CSE_Website/webdev/leftA.png\" height=\"50px\" width=\"50px\" align=\"left\"></a>\n",
    "</div>\n",
    "</td>\n",
    "<td style=\"border: 1px solid white;\">\n",
    "<div align=\"center\">\n",
    "<a href=\"http://nbviewer.ipython.org/github/CSE-UHS/Web-Development/blob/master/Chapter00.ipynb\"><h2>Table of Contents</h2></a>\n",
    "</div>\n",
    "</td>\n",
    "<td style=\"border: 1px solid white;\" width=\"100px\">\n",
    "<div>\n",
    "<a href=\"http://nbviewer.ipython.org/github/CSE-UHS/Web-Development/blob/master/Chapter12.ipynb\"><img src=\"https://dl.dropboxusercontent.com/u/90219577/Hermon/CSE_Website/webdev/rightA.png\"  height=\"50px\" width=\"50px\"  align=\"right\"></a>\n",
    "</div>\n",
    "</td>\n",
    "</tr></table>"
   ]
  }
 ],
 "metadata": {
  "kernelspec": {
   "display_name": "Python 2",
   "language": "python",
   "name": "python2"
  },
  "language_info": {
   "codemirror_mode": {
    "name": "ipython",
    "version": 2
   },
   "file_extension": ".py",
   "mimetype": "text/x-python",
   "name": "python",
   "nbconvert_exporter": "python",
   "pygments_lexer": "ipython2",
   "version": "2.7.10"
  }
 },
 "nbformat": 4,
 "nbformat_minor": 0
}

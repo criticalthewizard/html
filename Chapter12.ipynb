{
 "cells": [
  {
   "cell_type": "markdown",
   "metadata": {},
   "source": [
    "<div align=\"right\">\n",
    "<a href=\"http://nbviewer.ipython.org/github/CSE-UHS/Web-Development/blob/master/Chapter00.ipynb\" align=\"right\"><h2>Table of Contents</h2></a>\n",
    "</div>"
   ]
  },
  {
   "cell_type": "markdown",
   "metadata": {},
   "source": [
    "# Chapter 12: Element Grouping"
   ]
  },
  {
   "cell_type": "markdown",
   "metadata": {},
   "source": [
    "Sometimes you want to apply a special style to a particular element or a particular group of elements. In this chapter, we will take a closer look at how you can use <b>class, id, span</b> and <b>div</b> to specify properties for selected elements. How can you color one particular headline differently than the other headlines on your website? How can you group your links into different categories and give each category a special style? These are just examples of questions we will answer in this chapter."
   ]
  },
  {
   "cell_type": "markdown",
   "metadata": {},
   "source": [
    "## Using Classes"
   ]
  },
  {
   "cell_type": "markdown",
   "metadata": {},
   "source": [
    "Let's say that we have two lists of links of good and bad wizards. The HTML code could look like this:\n",
    "\n",
    "<img src=\"https://dl.dropboxusercontent.com/u/90219577/Hermon/CSE_Website/webdev/12/before.png\">\n",
    "\n",
    "Then we want the good wizard links to be red, the bad wizard links to be green and the rest of the existing links on the webpage to stay blue. To achieve this, we divide the links into two categories. This is done by assigning a class to each link using the attribute class. Let us try to specify some classes in the example above:\n",
    "\n",
    "<img src=\"https://dl.dropboxusercontent.com/u/90219577/Hermon/CSE_Website/webdev/12/after.png\">\n",
    "\t\n",
    "We can hereafter define special properties for links belonging to good and bad wizards, respectively.\n",
    "<h3>a {color: blue;}<br>\n",
    "\n",
    "a.good {color: #FF0000;}<br>\n",
    "\n",
    "a.bad {color: #00FF00;}</h3>\n",
    "As shown in the example you can define the properties for elements which belong to a certain class by using <b>.classname</b> in the style sheet of the document."
   ]
  },
  {
   "cell_type": "markdown",
   "metadata": {},
   "source": [
    "## Using ID"
   ]
  },
  {
   "cell_type": "markdown",
   "metadata": {},
   "source": [
    "In addition to grouping elements, you might need to identify one unique element. This is done by using the attribute <b>id</b>. What is special about the attribute id is that there can not be two elements in the same document with the same id. Each id has to be unique. In other cases, you should use the class attribute instead. Now, let us take a look at an example of a possible usage of id:\n",
    "\t\n",
    "<img src=\"https://dl.dropboxusercontent.com/u/90219577/Hermon/CSE_Website/webdev/12/id.png\">\n",
    "\t\n",
    "The above could be headings of any document split into chapters or paragraphs. It would be natural to assign an id to each chapter as shown. Let us say that the headline for chapter 1.2 must be in red. This can be done accordingly with CSS:\n",
    "\n",
    "<h3>#c1-2 {color: red;}</h3>\n",
    "\n",
    "As shown in the example above you can define the properties in a specific element by using <b>#id</b> in the stylesheet of the document."
   ]
  },
  {
   "cell_type": "markdown",
   "metadata": {},
   "source": [
    "## Using Span"
   ]
  },
  {
   "cell_type": "markdown",
   "metadata": {},
   "source": [
    "The element <b>&lt;span&gt;</b> is what you could call a neutral element which does not add anything to the document itself. But with CSS, <b>&lt;span&gt;</b> can be used to add visual features to specific parts of text in your documents.\n",
    "\n",
    "As an example we will use Albus Dumbledore's eulogy of Hufflepuff's very own Cedric Diggory! Let's say we want to emphasize in red the characteristics of Hufflepuff members as written by J.K. Rowling. We can do this by adding a <b>&lt;span&gt;</b> element along with a <b>class</b> designation.\n",
    "\n",
    "<img src=\"https://dl.dropboxusercontent.com/u/90219577/Hermon/CSE_Website/webdev/12/cedric.png\">\n",
    "\n",
    "The CSS belonging to it:\n",
    "\n",
    "<h3>span.hufflepuff {color:red;}</h3>\n",
    "\t\n",
    "Of course you may also use id to add style to the <b>&lt;span&gt;</b>-elements. Just as long as you remember, that you'll have to apply a unique id to each of the three <b>&lt;span&gt;</b>-elements, as you learned previously.\n",
    "\t"
   ]
  },
  {
   "cell_type": "markdown",
   "metadata": {},
   "source": [
    "## Using Div"
   ]
  },
  {
   "cell_type": "markdown",
   "metadata": {},
   "source": [
    "Whereas <b>&lt;span&gt;</b> is used within a block-level element as seen in the previous example, <b>&lt;div&gt;</b> is used to group one or more block-level elements.\n",
    "\n",
    "Aside from this difference, the grouping with <b>&lt;div&gt;</b> works in more or less the same way. Let us take a look at an example with our original two lists of good and bad wizards.\n",
    "\n",
    "\t\n",
    "<img src=\"https://dl.dropboxusercontent.com/u/90219577/Hermon/CSE_Website/webdev/12/div.png\">\n",
    "\t\n",
    "\t\n",
    "And in our style sheet, we can utilize the grouping in the exact same way as above:\n",
    "\t\n",
    "<h3>#goodwizards {background:blue;}<br>\n",
    "\n",
    "#badwizards {background:red;}</h3>\n",
    "\n",
    "In the examples above, we have only used <b>&lt;div&gt;</b> and <b>&lt;span&gt;</b> on very simple things such as text and background colors. Both elements have the potential to do much more advanced things."
   ]
  },
  {
   "cell_type": "markdown",
   "metadata": {},
   "source": [
    "<table width=\"100%\" border=\"1\" cellpadding=\"2\" cellspacing=\"0\">\n",
    "<tr>\n",
    "<td width=\"90\" bgcolor=\"#0000FF\" style=\"vertical-align:top\"><img src=\"https://dl.dropboxusercontent.com/u/90219577/Hermon/CSE_Website/webdev/00/WebWiz.png\" style=\"border:2px solid #021a40;\"><center><b>\n",
    "<font color=\"#FFFFFF\">Web<br>Wizardry<br>Task</font></b></center></td>\n",
    "<td valign=\"top\">\n",
    "<center><h1><u>Self-Guided Testing</u></h1></center><br>\n",
    "<font size=\"+0\"><center><b>There is no assigned task this time but make sure you are testing what you are learning on your website.</b></center></font>\n",
    "</td></tr></table>"
   ]
  },
  {
   "cell_type": "markdown",
   "metadata": {},
   "source": [
    "<table width=\"100%\" cellpadding=\"2\" cellspacing=\"2\">\n",
    "<tr>\n",
    "<td style=\"border: 1px solid white;\" width=\"100px\">\n",
    "<div>\n",
    "<a href=\"http://nbviewer.ipython.org/github/CSE-UHS/Web-Development/blob/master/Chapter11.ipynb\"><img src=\"https://dl.dropboxusercontent.com/u/90219577/Hermon/CSE_Website/webdev/leftA.png\" height=\"50px\" width=\"50px\" align=\"left\"></a>\n",
    "</div>\n",
    "</td>\n",
    "<td style=\"border: 1px solid white;\">\n",
    "<div align=\"center\">\n",
    "<a href=\"http://nbviewer.ipython.org/github/CSE-UHS/Web-Development/blob/master/Chapter00.ipynb\"><h2>Table of Contents</h2></a>\n",
    "</div>\n",
    "</td>\n",
    "<td style=\"border: 1px solid white;\" width=\"100px\">\n",
    "<div>\n",
    "<a href=\"http://nbviewer.ipython.org/github/CSE-UHS/Web-Development/blob/master/Chapter13.ipynb\"><img src=\"https://dl.dropboxusercontent.com/u/90219577/Hermon/CSE_Website/webdev/rightA.png\"  height=\"50px\" width=\"50px\"  align=\"right\"></a>\n",
    "</div>\n",
    "</td>\n",
    "</tr></table>"
   ]
  }
 ],
 "metadata": {
  "kernelspec": {
   "display_name": "Python 2",
   "language": "python",
   "name": "python2"
  },
  "language_info": {
   "codemirror_mode": {
    "name": "ipython",
    "version": 2
   },
   "file_extension": ".py",
   "mimetype": "text/x-python",
   "name": "python",
   "nbconvert_exporter": "python",
   "pygments_lexer": "ipython2",
   "version": "2.7.10"
  }
 },
 "nbformat": 4,
 "nbformat_minor": 0
}

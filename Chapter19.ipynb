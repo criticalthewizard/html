{
 "cells": [
  {
   "cell_type": "markdown",
   "metadata": {},
   "source": [
    "<div align=\"right\">\n",
    "<a href=\"http://nbviewer.ipython.org/github/CSE-UHS/Web-Development/blob/master/Chapter00.ipynb\" align=\"right\"><h2>Table of Contents</h2></a>\n",
    "</div>"
   ]
  },
  {
   "cell_type": "markdown",
   "metadata": {},
   "source": [
    "# Chapter 19: Functions"
   ]
  },
  {
   "cell_type": "markdown",
   "metadata": {},
   "source": [
    "Creating functions in PHP is almost identical to creating functions in Python. The major difference is that instead of using <b>def</b> we will use the much more obvious <b>function</b>. Also instead of indentation we of course encapsulate the function in curly braces. Finally, you might remember that you could either <b>print</b> from inside the function or <b>return</b> a value to the program. That remains the same, with the exception that we use <b>echo</b> instead of <b>print</b>. Below are several functions that you might remember but now have been re-written in PHP. You would do very well to examine each of these functions and see if you understand how they work. If there is anything you don't understand please ask your instructor. The fourth function shows you how we can make random numbers in PHP so don't miss out on that!"
   ]
  },
  {
   "cell_type": "markdown",
   "metadata": {},
   "source": [
    "## Minimum( )"
   ]
  },
  {
   "cell_type": "markdown",
   "metadata": {},
   "source": [
    "<img src=\"https://dl.dropboxusercontent.com/u/90219577/Hermon/CSE_Website/webdev/19/min.png\">"
   ]
  },
  {
   "cell_type": "markdown",
   "metadata": {},
   "source": [
    "## Box( )"
   ]
  },
  {
   "cell_type": "markdown",
   "metadata": {},
   "source": [
    "<img src=\"https://dl.dropboxusercontent.com/u/90219577/Hermon/CSE_Website/webdev/19/box.png\">"
   ]
  },
  {
   "cell_type": "markdown",
   "metadata": {},
   "source": [
    "## FindIt( )"
   ]
  },
  {
   "cell_type": "markdown",
   "metadata": {},
   "source": [
    "<img src=\"https://dl.dropboxusercontent.com/u/90219577/Hermon/CSE_Website/webdev/19/findit.png\">"
   ]
  },
  {
   "cell_type": "markdown",
   "metadata": {},
   "source": [
    "## FlipCoin( )"
   ]
  },
  {
   "cell_type": "markdown",
   "metadata": {},
   "source": [
    "<img src=\"https://dl.dropboxusercontent.com/u/90219577/Hermon/CSE_Website/webdev/19/flipcoin1.png\">"
   ]
  },
  {
   "cell_type": "markdown",
   "metadata": {},
   "source": [
    "<table width=\"100%\" border=\"1\" cellpadding=\"2\" cellspacing=\"0\">\n",
    "<tr>\n",
    "<td width=\"90\" bgcolor=\"#0000FF\" style=\"vertical-align:top\"><img src=\"https://dl.dropboxusercontent.com/u/90219577/Hermon/CSE_Website/webdev/00/WebWiz.png\" style=\"border:2px solid #021a40;\"><center><b>\n",
    "<font color=\"#FFFFFF\">Web<br>Wizardry<br>Task</font></b></center></td>\n",
    "<td valign=\"top\">\n",
    "<center><h1>Fibonacci( )</h1></center><br>\n",
    "\n",
    "<center><h3>Rewrite the Fibonacci function in PHP for any given &#36;num. <br/>Use CSS to alternate the colors of the output with red and blue.</h3></center>\n",
    "<br>\n",
    "<img src=\"https://dl.dropboxusercontent.com/u/90219577/Hermon/CSE_Website/webdev/19/fibo.png\">\n",
    "\n",
    "</td></tr></table>"
   ]
  },
  {
   "cell_type": "markdown",
   "metadata": {},
   "source": [
    "<table width=\"100%\" cellpadding=\"2\" cellspacing=\"2\">\n",
    "<tr>\n",
    "<td style=\"border: 1px solid white;\" width=\"100px\">\n",
    "<div>\n",
    "<a href=\"http://nbviewer.ipython.org/github/CSE-UHS/Web-Development/blob/master/Chapter18.ipynb\"><img src=\"https://dl.dropboxusercontent.com/u/90219577/Hermon/CSE_Website/webdev/leftA.png\" height=\"50px\" width=\"50px\" align=\"left\"></a>\n",
    "</div>\n",
    "</td>\n",
    "<td style=\"border: 1px solid white;\">\n",
    "<div align=\"center\">\n",
    "<a href=\"http://nbviewer.ipython.org/github/CSE-UHS/Web-Development/blob/master/Chapter00.ipynb\"><h2>Table of Contents</h2></a>\n",
    "</div>\n",
    "</td>\n",
    "<td style=\"border: 1px solid white;\" width=\"100px\">\n",
    "<div>\n",
    "<a href=\"http://nbviewer.ipython.org/github/CSE-UHS/Web-Development/blob/master/Chapter20.ipynb\"><img src=\"https://dl.dropboxusercontent.com/u/90219577/Hermon/CSE_Website/webdev/rightA.png\"  height=\"50px\" width=\"50px\"  align=\"right\"></a>\n",
    "</div>\n",
    "</td>\n",
    "</tr></table>"
   ]
  }
 ],
 "metadata": {
  "kernelspec": {
   "display_name": "Python 2",
   "language": "python",
   "name": "python2"
  },
  "language_info": {
   "codemirror_mode": {
    "name": "ipython",
    "version": 2
   },
   "file_extension": ".py",
   "mimetype": "text/x-python",
   "name": "python",
   "nbconvert_exporter": "python",
   "pygments_lexer": "ipython2",
   "version": "2.7.10"
  }
 },
 "nbformat": 4,
 "nbformat_minor": 0
}

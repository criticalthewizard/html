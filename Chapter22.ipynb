{
 "cells": [
  {
   "cell_type": "markdown",
   "metadata": {},
   "source": [
    "<div align=\"right\">\n",
    "<a href=\"http://nbviewer.ipython.org/github/CSE-UHS/Web-Development/blob/master/Chapter00.ipynb\" align=\"right\"><h2>Table of Contents</h2></a>\n",
    "</div>"
   ]
  },
  {
   "cell_type": "markdown",
   "metadata": {},
   "source": [
    "# Chapter 22: Inserting Data"
   ]
  },
  {
   "cell_type": "markdown",
   "metadata": {},
   "source": [
    "In this lesson, we look at how you can write a PHP/MySQL script which will connect to the server, select a database and then insert data into a table. Since our final goal in this chapter is to insert some data into our table, at this time you should create a new PHP file called, <b>insert.php</b>"
   ]
  },
  {
   "cell_type": "markdown",
   "metadata": {},
   "source": [
    "## Connecting to Your Server"
   ]
  },
  {
   "cell_type": "markdown",
   "metadata": {},
   "source": [
    "The very first line of code when dealing with MySQL databases is to be able to connect to your server that is housing the database. This uses a <b>mysql_connect</b> statement that includes your hosting website, username and password. I included our correct hosting name but you obviously should enter your own username and password. If for some reason the connection cannot be made this script will be \"killed\" and an error will be given. \n",
    "\n",
    "<img src=\"https://dl.dropboxusercontent.com/u/90219577/Hermon/CSE_Website/webdev/22/serverconnect.png\">"
   ]
  },
  {
   "cell_type": "markdown",
   "metadata": {},
   "source": [
    "## Selecting a Database"
   ]
  },
  {
   "cell_type": "markdown",
   "metadata": {},
   "source": [
    "Next we add a <b>mysql_select_db</b> statement that will connect us to the correct database.\n",
    "\n",
    "<img src=\"https://dl.dropboxusercontent.com/u/90219577/Hermon/CSE_Website/webdev/22/selectdatabase.png\">"
   ]
  },
  {
   "cell_type": "markdown",
   "metadata": {},
   "source": [
    "## Adding Data to a Table"
   ]
  },
  {
   "cell_type": "markdown",
   "metadata": {},
   "source": [
    "We will add data to the table in two lines of code. First, we set a <b>INSERT INTO</b> statement to some variable. I called the variable <b>&#36;strSQL</b>. After the <b>INSERT INTO</b> we give the table name, which in this case was <b>people</b>. Then we list the <b>columns</b> in the table that we want to enter data into and then the <b>VALUES</b> that we want to enter. It's important to list the <b>VALUES</b> in the same order as the <b>columns</b> into which you want to enter that data.\n",
    "\n",
    "Next, we add a <b>mysql_query</b> line of code that will submit our query to our server.\n",
    "\n",
    "<img src=\"https://dl.dropboxusercontent.com/u/90219577/Hermon/CSE_Website/webdev/22/insertdata.png\">\n",
    "\n",
    "Whenever we are done with interacting with our database it is always a good idea to close the connection that we opened. That can easily be done with <b>mysql_close();</b>\n",
    "\n",
    "Let's add some HTML to your script.\n",
    "\n",
    "<img src=\"https://dl.dropboxusercontent.com/u/90219577/Hermon/CSE_Website/webdev/22/adddata.png\">\n",
    "\n",
    "FTP this file to your server using Fetch. Navigate to the page on the internet which will run the script. Login to your phpMyAdmin panel to see if a new record has been added to your <b>people</b> table. <b><u>Do NOT move on until you have accomplished this task</u>.</b>\n"
   ]
  },
  {
   "cell_type": "markdown",
   "metadata": {},
   "source": [
    "## Most Common Beginner Mistakes"
   ]
  },
  {
   "cell_type": "markdown",
   "metadata": {},
   "source": [
    "In the beginning, you will probably get a lot of error messages when you try to update your databases. There is no room for the slightest inaccuracy when you work with databases. A misplaced comma can mean the database is not being updated, and you get an error message instead. Below, are two of the most common beginner mistakes.\n",
    "\n",
    "<h3>Wrong data types</h3>\n",
    "\n",
    "It is important that there is consistency between the type of data and column. Each column can be set to a data type. The screenshot below shows the data types for the table \"people\" in our example.\n",
    "\n",
    "<img src=\"https://dl.dropboxusercontent.com/u/90219577/Hermon/CSE_Website/webdev/22/datatypes.png\">\n",
    "\n",
    "An error occurs if you, for example, attempt to insert text or numbers in a date field. Therefore, try to set the data types as precisely as possible.\n",
    "\n",
    "<h3>SQL statements with quotes or backslash</h3>\n",
    "\n",
    "If you try to insert text that contains the characters single quote ('), double quote (\") or backslash (\\\\), the record may not be inserted into the database. This was a pain in my early coding life!!!! The solution is to use escape codes and add backslashes before characters that need to be quoted in database queries.\n",
    "\n",
    "However, since users are probably going to be adding data to your database from a form we need to find a way to take care of these possible problems. This can be done very easily with the function <b>addslashes</b> as seen in the following example.\n",
    "\n",
    "<img src=\"https://dl.dropboxusercontent.com/u/90219577/Hermon/CSE_Website/webdev/22/addslashes.png\">\n",
    "\n",
    "All single quotes ('), double quotes (\") and backslashes (\\\\) will then get an extra backslash before the character. This would only be used to get the data into the database, the extra \\\\ will not be inserted.\n"
   ]
  },
  {
   "cell_type": "markdown",
   "metadata": {},
   "source": [
    "## The Genius of Include( );"
   ]
  },
  {
   "cell_type": "markdown",
   "metadata": {},
   "source": [
    "Hopefully you remember back in Python when we bundled up a lot of functions in one file and then imported them with one line of code into another file. This way instead of having functions written in every file where we wanted to use them we could save a ton of code and have them all in one file and just import them into other files.\n",
    "\n",
    "You might have already thought of a need for this concept in our PHP files by now. We just learned how to add data to a database. We will continue to make other files which will retrieve data, update data and delete data. <b><u>What is common to all of these files</u>????</b> Connecting to the database!\n",
    "\n",
    "So before we go on let's save us some time in the future. Create a new PHP file called <b>dbconnection.php</b>. This could be called anything but that's the name I always like to use because it makes sense. In that file put your database connection code as seen below:\n",
    "\n",
    "<img src=\"https://dl.dropboxusercontent.com/u/90219577/Hermon/CSE_Website/webdev/22/dbconnection.png\">\n",
    "\n",
    "Now, back in your <b>insert.php</b> file replace your connection code with an <b>include( )</b> statement as seen below.\n",
    "\n",
    "<img src=\"https://dl.dropboxusercontent.com/u/90219577/Hermon/CSE_Website/webdev/22/include.png\">\n",
    "\n",
    "Make sure your path to the dbconnection file is correct. In my example, I put my insert.php and my dbconnection.php file in the same folder on the server. Now, whenever you need to connect to the database you can just include that line of code at the top of your file. AWESOME!"
   ]
  },
  {
   "cell_type": "markdown",
   "metadata": {},
   "source": [
    "<table width=\"100%\" border=\"1\" cellpadding=\"2\" cellspacing=\"0\">\n",
    "<tr>\n",
    "<td width=\"90\" bgcolor=\"#0000FF\" style=\"vertical-align:top\"><img src=\"https://dl.dropboxusercontent.com/u/90219577/Hermon/CSE_Website/webdev/00/WebWiz.png\" style=\"border:2px solid #021a40;\"><center><b>\n",
    "<font color=\"#FFFFFF\">Web<br>Wizardry<br>Task</font></b></center></td>\n",
    "<td valign=\"top\">\n",
    "<center><h1>Voldemort's Rolodex Part 2</h1></center><br>\n",
    "\n",
    "<font size=\"+0\">&nbsp;&nbsp;&nbsp;&nbsp;&nbsp;&nbsp;&nbsp;Build an HTML form for Voldemort that will allow him to add to his contact list. The data entered into the form should be passed to the insert.php file where it will be entered into the database. You do not have to demonstrate to your instructor until the end of the project build. </font>\n",
    "\n",
    "\n",
    "</td></tr></table>"
   ]
  },
  {
   "cell_type": "markdown",
   "metadata": {},
   "source": [
    "<table width=\"100%\" cellpadding=\"2\" cellspacing=\"2\">\n",
    "<tr>\n",
    "<td style=\"border: 1px solid white;\" width=\"100px\">\n",
    "<div>\n",
    "<a href=\"http://nbviewer.ipython.org/github/CSE-UHS/Web-Development/blob/master/Chapter21.ipynb\"><img src=\"https://dl.dropboxusercontent.com/u/90219577/Hermon/CSE_Website/webdev/leftA.png\" height=\"50px\" width=\"50px\" align=\"left\"></a>\n",
    "</div>\n",
    "</td>\n",
    "<td style=\"border: 1px solid white;\">\n",
    "<div align=\"center\">\n",
    "<a href=\"http://nbviewer.ipython.org/github/CSE-UHS/Web-Development/blob/master/Chapter00.ipynb\"><h2>Table of Contents</h2></a>\n",
    "</div>\n",
    "</td>\n",
    "<td style=\"border: 1px solid white;\" width=\"100px\">\n",
    "<div>\n",
    "<a href=\"http://nbviewer.ipython.org/github/CSE-UHS/Web-Development/blob/master/Chapter23.ipynb\"><img src=\"https://dl.dropboxusercontent.com/u/90219577/Hermon/CSE_Website/webdev/rightA.png\"  height=\"50px\" width=\"50px\"  align=\"right\"></a>\n",
    "</div>\n",
    "</td>\n",
    "</tr></table>"
   ]
  }
 ],
 "metadata": {
  "kernelspec": {
   "display_name": "Python 2",
   "language": "python",
   "name": "python2"
  },
  "language_info": {
   "codemirror_mode": {
    "name": "ipython",
    "version": 2
   },
   "file_extension": ".py",
   "mimetype": "text/x-python",
   "name": "python",
   "nbconvert_exporter": "python",
   "pygments_lexer": "ipython2",
   "version": "2.7.10"
  }
 },
 "nbformat": 4,
 "nbformat_minor": 0
}

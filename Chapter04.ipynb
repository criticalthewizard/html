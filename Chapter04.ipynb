{
 "cells": [
  {
   "cell_type": "markdown",
   "metadata": {},
   "source": [
    "<div align=\"right\">\n",
    "<a href=\"http://nbviewer.ipython.org/github/CSE-UHS/Web-Development/blob/master/Chapter00.ipynb\" align=\"right\"><h2>Table of Contents</h2></a>\n",
    "</div>"
   ]
  },
  {
   "cell_type": "markdown",
   "metadata": {},
   "source": [
    "# Chapter 4: Images"
   ]
  },
  {
   "cell_type": "markdown",
   "metadata": {},
   "source": [
    "## Adding an Image"
   ]
  },
  {
   "cell_type": "markdown",
   "metadata": {},
   "source": [
    "In this lesson, you will learn how to add images. Here is an example of the coding and how it would look on the page.<br><br>\n",
    "\n",
    "&lt;img src=\"img/WebWiz.png\"/&gt;\n",
    "\n",
    "<center><img src=\"https://dl.dropboxusercontent.com/u/90219577/Hermon/CSE_Website/webdev/00/WebWiz.png\"/></center>\n",
    "\n",
    "All you need do is first tell the browser that you want to insert an image (<b>img</b>) and then where it is located (<b>src, short for \"source\"</b>).\n",
    "\n",
    "Notice how the img element is opened and closed using the same tag. Like the &lt;br /&gt; tag, it is not tied to a piece of text.\n",
    "\n",
    "\"WebWiz.png\" is the name of the image file that I wanted to insert on this page. \".png\" is the file type of the image. Just like the extension \".htm\" shows that a file is an HTML document, \".png\" tells the browser that a file is a picture. There are three different types of image file types you can insert into your pages:\n",
    "\n",
    "<b>GIF (Graphics Interchange Format)<br>\n",
    "JPG / JPEG (Joint Photographic Experts Group)<br>\n",
    "PNG (Portable Network Graphics)<br><br></b>\n",
    "\n",
    "<b>GIF</b> images are usually best for graphics and drawings, while <b>JPEG</b> images are usually better for photographs. This is for two reasons: first, <b>GIF</b> images only consist of 256 colors, while <b>JPEG</b> images comprise of millions of colors and second, the <b>GIF</b> format is better at compressing simple images, than the <b>JPEG</b> format which is optimized for more complex images. The better the compression, the smaller the size of the image file, the faster your page will load. As you probably know from your own experience, unnecessarily 'heavy' pages can be extremely annoying for the user.\n",
    "\n",
    "Traditionally, the <b>GIF</b> and <b>JPEG</b> formats have been the two dominant image types, but lately, the <b>PNG</b> format has become more and more popular (primarily at the expense of the <b>GIF</b> format). The <b>PNG</b> format contains in many ways the best of both the JPEG and GIF format: millions of colors and effective compressing.\n",
    "\n",
    "Notice the sourse location for the image. The path of this url shows that we have to go into the <b>img</b> folder to find the image. You should review <b>absolute and relative</b> pathways that we used in the last chapter on links."
   ]
  },
  {
   "cell_type": "markdown",
   "metadata": {},
   "source": [
    "## Where Do I Get Images?"
   ]
  },
  {
   "cell_type": "markdown",
   "metadata": {},
   "source": [
    "To make your own images, you need an image editing program. Being skilled with an image editing program is a great way to make amazing websites. We will just borrow images from other sites by downloading them, but please be careful to not violate copyrights. Still, it's useful to know how to download pictures, so here's how you do it:\n",
    "\n",
    "<b>Right-click on an image on any image on the Internet.<br>\n",
    "Choose \"Save picture as...\" in the menu that appears.<br>\n",
    "Choose a location for the image on your computer and press \"Save\".</b><br><br>\n",
    "Practice this with the web wizard picture above. (Notice that the logo is saved as a PNG file: WebWiz.png). Now you can insert the image into one of your own pages. Try it yourself."
   ]
  },
  {
   "cell_type": "markdown",
   "metadata": {},
   "source": [
    "## Other Image Attributes"
   ]
  },
  {
   "cell_type": "markdown",
   "metadata": {},
   "source": [
    "&lt;a href=\"http://engineeringU.com\" target=\"_blank\"&gt;&lt;img src=\"img/WebWiz.png\" alt=\"Web Wizard\" title=\"Click to Navigate\" height=\"50px\" width=\"50px\"/&gt;&lt;/a&gt;\n",
    "\n",
    "<center><a href=\"http://engineeringU.com\" target=\"_blank\"><img src=\"https://dl.dropboxusercontent.com/u/90219577/Hermon/CSE_Website/webdev/00/WebWiz.png\" alt=\"Web Wizard\" title=\"Click to Navigate\" height=\"50px\" width=\"50px\"/></a></center>\n",
    "\n",
    "Although the first item is not actually an attribute, you can link an image to a website just like we linked text in the last chapter. This is a cool way to make image maps on a website. \n",
    "\n",
    "In the above example we also used several attributes. The <b>alt</b> attribute is used to give an alternate description of an image if, for some reason, the image is not shown for the user. This is especially important for users with impaired vision, or if the page is loaded very slowly. Therefore, always use the alt attribute.\n",
    "\n",
    "Some browsers let the text of the <b>alt</b> attribute appear as a small pop-up box when the user places their cursor over the picture. Please note that when using the <b>alt</b> attribute, the aim is to provide an alternative description of the picture. The <b>alt</b> attribute should not be used to create special pop-up messages for the user since then visually impaired users will hear the message without knowing what the picture is. The <b>title</b> attribute can be used to add information to the image.\n",
    "\n",
    "The <b>width and height</b> attributes can be used to set the height and width of an image. The value that is used to set the width and height is pixels. Pixels are the units of measurement used to measure the resolution of screens. (The most common screen resolution is 1024x768 pixels). Unlike centimeters, pixels are relative units of measurement which depend on the resolution of the screen. To a user with a high screen resolution, 25 pixels may correspond to 1 centimeter, while the same 25 pixel in a low screen resolution may correspond to 1.5 centimeters on the screen.If you do not set the width and height, the image will be inserted in its actual size.\n",
    "\n",
    "<u>However, it is worth keeping in mind that the actual size in kilobytes of the image file will remain the same so it will take the same time to load the image as it did before, even though it appears smaller on the screen</u>. Therefore, you should actually never decrease the image size by using the width and height attributes. Instead, you should always resize your images in an image editing program to make your pages lighter and faster.\n",
    "\n",
    "That said, it is still a good idea to use the width and height attributes because the browser will then be able to detect how much space the image will need in the final page layout before the image is fully downloaded. This allows your browser to set up the page nicely in a quicker way."
   ]
  },
  {
   "cell_type": "markdown",
   "metadata": {},
   "source": [
    "<table width=\"100%\" border=\"1\" cellpadding=\"2\" cellspacing=\"0\">\n",
    "<tr>\n",
    "<td width=\"90\" bgcolor=\"#0000FF\" style=\"vertical-align:top\"><img src=\"https://dl.dropboxusercontent.com/u/90219577/Hermon/CSE_Website/webdev/00/WebWiz.png\" style=\"border:2px solid #021a40;\"><center><b>\n",
    "<font color=\"#FFFFFF\">Web<br>Wizardry<br>Task</b></center></td>\n",
    "<td valign=\"top\">\n",
    "<center><h1><u>Imagery</u></h1></center><br>\n",
    "\n",
    "<ol>\n",
    "<li>Add several images.</li>\n",
    "<li>Use \"alt\" attributes</li>\n",
    "<li>Link the images to jump back and forth between pages.</li>\n",
    "</ol></td></tr></table>"
   ]
  },
  {
   "cell_type": "markdown",
   "metadata": {},
   "source": [
    "<table width=\"100%\" cellpadding=\"2\" cellspacing=\"2\">\n",
    "<tr>\n",
    "<td style=\"border: 1px solid white;\" width=\"100px\">\n",
    "<div>\n",
    "<a href=\"http://nbviewer.ipython.org/github/CSE-UHS/Web-Development/blob/master/Chapter03.ipynb\"><img src=\"https://dl.dropboxusercontent.com/u/90219577/Hermon/CSE_Website/webdev/leftA.png\" height=\"50px\" width=\"50px\" align=\"left\"></a>\n",
    "</div>\n",
    "</td>\n",
    "<td style=\"border: 1px solid white;\">\n",
    "<div align=\"center\">\n",
    "<a href=\"http://nbviewer.ipython.org/github/CSE-UHS/Web-Development/blob/master/Chapter00.ipynb\"><h2>Table of Contents</h2></a>\n",
    "</div>\n",
    "</td>\n",
    "<td style=\"border: 1px solid white;\" width=\"100px\">\n",
    "<div>\n",
    "<a href=\"http://nbviewer.ipython.org/github/CSE-UHS/Web-Development/blob/master/Chapter05.ipynb\"><img src=\"https://dl.dropboxusercontent.com/u/90219577/Hermon/CSE_Website/webdev/rightA.png\"  height=\"50px\" width=\"50px\"  align=\"right\"></a>\n",
    "</div>\n",
    "</td>\n",
    "</tr></table>"
   ]
  }
 ],
 "metadata": {
  "kernelspec": {
   "display_name": "Python 2",
   "language": "python",
   "name": "python2"
  },
  "language_info": {
   "codemirror_mode": {
    "name": "ipython",
    "version": 2
   },
   "file_extension": ".py",
   "mimetype": "text/x-python",
   "name": "python",
   "nbconvert_exporter": "python",
   "pygments_lexer": "ipython2",
   "version": "2.7.10"
  }
 },
 "nbformat": 4,
 "nbformat_minor": 0
}

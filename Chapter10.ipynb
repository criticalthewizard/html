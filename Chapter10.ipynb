{
 "cells": [
  {
   "cell_type": "markdown",
   "metadata": {},
   "source": [
    "<div align=\"right\">\n",
    "<a href=\"http://nbviewer.ipython.org/github/CSE-UHS/Web-Development/blob/master/Chapter00.ipynb\" align=\"right\"><h2>Table of Contents</h2></a>\n",
    "</div>"
   ]
  },
  {
   "cell_type": "markdown",
   "metadata": {},
   "source": [
    "# Chapter 10: Text"
   ]
  },
  {
   "cell_type": "markdown",
   "metadata": {},
   "source": [
    "Formatting and adding style to text is a key issue for any web designer. In this chapter you will be introduced to the amazing opportunities CSS gives you to add layout to text. The following properties will be described:\n",
    "\n",
    "<b>text-indent<br>\n",
    "text-align<br>\n",
    "text-decoration<br>\n",
    "letter-spacing<br>\n",
    "text-transform\n",
    "</b>"
   ]
  },
  {
   "cell_type": "markdown",
   "metadata": {},
   "source": [
    "## Text indention [text-indent]"
   ]
  },
  {
   "cell_type": "markdown",
   "metadata": {},
   "source": [
    "The property <b>text-indent</b> allows you to add an elegant touch to text paragraphs by applying an indent to the first line of the paragraph. In the example below a 30px indent is applied to all text paragraphs marked with <b>&lt;p&gt;</b>:\n",
    "\t\n",
    "<h3>p {text-indent: 30px;}</h3>\n",
    "\t"
   ]
  },
  {
   "cell_type": "markdown",
   "metadata": {},
   "source": [
    "## Text alignment [text-align]"
   ]
  },
  {
   "cell_type": "markdown",
   "metadata": {},
   "source": [
    "The CSS property <b>text-align</b> corresponds to the attribute align used in old versions of HTML. Text can either be aligned to the left, to the right or centered. In addition to this, the value <b>justify</b> will stretch each line so that both the right and left margins are straight. This is the layout style for newspapers and magazines.\n",
    "\n",
    "In the example below the text in table headings <b>&lt;th&gt;</b> is aligned to the right while the table data <b>&lt;td&gt;</b> are centred. In addition, normal text paragraphs are justified:\n",
    "\n",
    "\t\n",
    "<h3>th {text-align: right;}<br>\n",
    "\n",
    "td {text-align: center;}<br>\n",
    "\n",
    "p {text-align: justify;}\n",
    "</h3>"
   ]
  },
  {
   "cell_type": "markdown",
   "metadata": {},
   "source": [
    "## Text decoration [text-decoration]"
   ]
  },
  {
   "cell_type": "markdown",
   "metadata": {},
   "source": [
    "The property <b>text-decoration</b> makes it is possible to add different \"decorations\" or \"effects\" to text. For example, you can underline the text, have a line through or above the text, etc. In the following example, <b>&lt;h1&gt;</b> are underlined headlines, <b>&lt;h2&gt;</b> are headlines with a line above the text and <b>&lt;h3&gt;</b> are headlines with a line though the text.\n",
    "<h3>h1 {text-decoration: underline;}<br>\n",
    "\n",
    "h2 {text-decoration: overline;}<br>\n",
    "\n",
    "h3 {text-decoration: line-through;}\n",
    "</h3>"
   ]
  },
  {
   "cell_type": "markdown",
   "metadata": {},
   "source": [
    "## Letter space [letter-spacing]"
   ]
  },
  {
   "cell_type": "markdown",
   "metadata": {},
   "source": [
    "The spacing between text characters can be specified using the property <b>letter-spacing</b>. The value of the property is simply the desired width. For example, if you want a spacing of 3px between the letters in a text paragraph <b>&lt;p&gt;</b> and 6px between letters in headlines <b>&lt;h1&gt;</b> the code below could be used.\n",
    "\n",
    "\t\n",
    "<h3>h1 {letter-spacing: 6px;}<br>\n",
    "\n",
    "p {letter-spacing: 3px;}</h3>"
   ]
  },
  {
   "cell_type": "markdown",
   "metadata": {},
   "source": [
    "## Text transformation [text-transform]"
   ]
  },
  {
   "cell_type": "markdown",
   "metadata": {},
   "source": [
    "The <b>text-transform</b> property controls the capitalization of a text. You can choose to capitalize, use uppercase or lowercase regardless of how the original text looks in the HTML code.\n",
    "\n",
    "An example could be the word \"headline\" which can be presented to the user as \"HEADLINE\" or \"Headline\". There are four possible values for text-transform:\n",
    "\n",
    "<h3>capitalize</h3>\n",
    "Capitalizes the first letter of each word. For example: \"harry potter\" will be \"Harry Potter\".\n",
    "<h3>uppercase</h3>\n",
    "Converts all letters to uppercase. For example: \"harry potter\" will be \"HARRY POTTER\".\n",
    "<h3>lowercase</h3>\n",
    "Converts all letters to lowercase. For example: \"HARRY POTTER\" will be \"harry potter\".\n",
    "<h3>none</h3>\n",
    "No transformations - the text is presented as it appears in the HTML code.<br><br>\n",
    "\n",
    "As an example, we could use a list of names. In HTML the names are all marked with <b>&lt;li&gt;</b> (list-item). Let's say that we want names to be capitalized and headlines to be presented in uppercase letters. We could use the following CSS even though our HTML text is in all lowercase.\n",
    "\n",
    "<h3>h1 {text-transform: uppercase;}<br>\n",
    "\n",
    "li {text-transform: capitalize;}</h3>"
   ]
  },
  {
   "cell_type": "markdown",
   "metadata": {},
   "source": [
    "<table width=\"100%\" border=\"1\" cellpadding=\"2\" cellspacing=\"0\">\n",
    "<tr>\n",
    "<td width=\"90\" bgcolor=\"#0000FF\" style=\"vertical-align:top\"><img src=\"https://dl.dropboxusercontent.com/u/90219577/Hermon/CSE_Website/webdev/00/WebWiz.png\" style=\"border:2px solid #021a40;\"><center><b>\n",
    "<font color=\"#FFFFFF\">Web<br>Wizardry<br>Task</font></b></center></td>\n",
    "<td valign=\"top\">\n",
    "<center><h1><u>Self-Guided Testing</u></h1></center><br>\n",
    "<font size=\"+0\"><center><b>There is no assigned task this time but make sure you are testing what you are learning on your website.</b></center></font>\n",
    "</td></tr></table>"
   ]
  },
  {
   "cell_type": "markdown",
   "metadata": {},
   "source": [
    "<table width=\"100%\" cellpadding=\"2\" cellspacing=\"2\">\n",
    "<tr>\n",
    "<td style=\"border: 1px solid white;\" width=\"100px\">\n",
    "<div>\n",
    "<a href=\"http://nbviewer.ipython.org/github/CSE-UHS/Web-Development/blob/master/Chapter09.ipynb\"><img src=\"https://dl.dropboxusercontent.com/u/90219577/Hermon/CSE_Website/webdev/leftA.png\" height=\"50px\" width=\"50px\" align=\"left\"></a>\n",
    "</div>\n",
    "</td>\n",
    "<td style=\"border: 1px solid white;\">\n",
    "<div align=\"center\">\n",
    "<a href=\"http://nbviewer.ipython.org/github/CSE-UHS/Web-Development/blob/master/Chapter00.ipynb\"><h2>Table of Contents</h2></a>\n",
    "</div>\n",
    "</td>\n",
    "<td style=\"border: 1px solid white;\" width=\"100px\">\n",
    "<div>\n",
    "<a href=\"http://nbviewer.ipython.org/github/CSE-UHS/Web-Development/blob/master/Chapter11.ipynb\"><img src=\"https://dl.dropboxusercontent.com/u/90219577/Hermon/CSE_Website/webdev/rightA.png\"  height=\"50px\" width=\"50px\"  align=\"right\"></a>\n",
    "</div>\n",
    "</td>\n",
    "</tr></table>"
   ]
  }
 ],
 "metadata": {
  "kernelspec": {
   "display_name": "Python 2",
   "language": "python",
   "name": "python2"
  },
  "language_info": {
   "codemirror_mode": {
    "name": "ipython",
    "version": 2
   },
   "file_extension": ".py",
   "mimetype": "text/x-python",
   "name": "python",
   "nbconvert_exporter": "python",
   "pygments_lexer": "ipython2",
   "version": "2.7.10"
  }
 },
 "nbformat": 4,
 "nbformat_minor": 0
}

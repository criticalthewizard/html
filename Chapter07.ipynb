{
 "cells": [
  {
   "cell_type": "markdown",
   "metadata": {},
   "source": [
    "<div align=\"right\">\n",
    "<a href=\"http://nbviewer.ipython.org/github/CSE-UHS/Web-Development/blob/master/Chapter00.ipynb\" align=\"right\"><h2>Table of Contents</h2></a>\n",
    "</div>"
   ]
  },
  {
   "cell_type": "markdown",
   "metadata": {},
   "source": [
    "# Chapter 7: Cascading Style Sheets"
   ]
  },
  {
   "cell_type": "markdown",
   "metadata": {},
   "source": [
    "<b>Cascading Style Sheets (CSS)</b> is a fantastic tool to add layout to your HTML websites. For example, CSS covers fonts, colours, margins, lines, height, width, background images, advanced positions and many other things. CSS is a must for anyone working with web design.\n",
    "\n",
    "A short time ago, the language HTML was only used to add structure to text. An author could mark his text by stating \"this is a headline\" or \"this is a paragraph\" using HTML tags such as &lt;h1&gt; and &lt;p&gt;.\n",
    "\n",
    "As the Web gained popularity, designers started looking for possibilities to add layout to online documents. To meet this demand, the browser producers (at that time Netscape and Microsoft) invented new HTML tags such as for example &lt;font&gt; which differed from the original HTML tags by defining layout - and not just structure.\n",
    "\n",
    "This also led to a situation where original structure tags such as &lt;table&gt; were increasingly being misused to layout pages instead of adding structure to text. Many new layout tags such as &lt;blink&gt; were only supported by one type of browser. \"You need browser X to view this page\" became a common disclaimer on web sites. \n",
    "\n",
    "CSS was invented to remedy this situation by providing web designers with sophisticated layout opportunities supported by all browsers. At the same time, separation of the presentation style of documents from the content of documents, makes site maintenance a lot easier. Your instructor was very guilty of continuing to use tables to layout webpages rather than learning the brand new CSS at the time. It's hard to teach an old dog new tricks! I actually still have some old webpages that don't properly use CSS. Don't be like me! CSS was a revolution in the world of web design and it's good for you to learn it along with the HTML you have just learned."
   ]
  },
  {
   "cell_type": "markdown",
   "metadata": {},
   "source": [
    "## CSS Syntax"
   ]
  },
  {
   "cell_type": "markdown",
   "metadata": {},
   "source": [
    "Let's say we want a nice red color as the background of a webpage:\n",
    "\n",
    "Using <b>HTML</b> we could have done it like this:\n",
    "\n",
    "\t\n",
    "<center><b>&lt;body bgcolor=\"#FF0000\"&gt;</b></center>\n",
    "\t\n",
    "\t\n",
    "With <b>CSS</b> the same result can be achieved like this:\n",
    "\n",
    "\t\n",
    "<center><b>body {background-color: #FF0000;}</b></center>\n",
    "\t\n",
    "\t\n",
    "As you will note, the codes are more or less identical for HTML and CSS. The below example also shows you the fundamental CSS model:\n",
    "\n",
    "\n",
    "   <img src=\"https://dl.dropboxusercontent.com/u/90219577/Hermon/CSE_Website/webdev/07/cssrule.gif\">\n",
    "   \n",
    "We start with a <b>selector</b> which is some HTML tag to which the property is going to apply. After that we use open and closed \"curly brackets\". Inside the \"curly brackets\" we use <b>declarations</b> that end in semicolons. A <b>declaration</b> consists of both a <b>property</b> and a <b>value</b>. There is a colon after the <b>property</b>. Here is the basic structure:\n",
    "\n",
    "<img src=\"https://dl.dropboxusercontent.com/u/90219577/Hermon/CSE_Website/webdev/07/cssrule2.png\">\n",
    "\n",
    "<h3>But where do you put the CSS code?</h3>"
   ]
  },
  {
   "cell_type": "markdown",
   "metadata": {},
   "source": [
    "## Methods for CSS Application"
   ]
  },
  {
   "cell_type": "markdown",
   "metadata": {},
   "source": [
    "There are three ways you can apply CSS to an HTML document. These methods are all outlined below. We recommend that you focus on the third method (external style sheets).\n",
    "\n",
    "<h3>Method 1: In-line (the attribute style)</h3>\n",
    "\n",
    "One way to apply CSS to HTML is by using the HTML attribute style. Building on the above example with the red background color, it can be applied like this:\n",
    "\n",
    "<img src=\"https://dl.dropboxusercontent.com/u/90219577/Hermon/CSE_Website/webdev/07/inline.png\">\n",
    "\n",
    "This is a really easy method. <b>It's also a trap!</b> You can imagine if you eventually have a website with 10 or so pages you will have to find the exact line on the exact page to make a change. The <b>In-line</b> CSS method should be avoided at all costs. Trust me...I learned the hard way!\n",
    "\n",
    "<h3>Method 2: Internal (the tag style)</h3>\n",
    "\n",
    "Another way is to include the CSS codes using the HTML tag &lt;style&gt;. For example like this:\n",
    "\n",
    "<img src=\"https://dl.dropboxusercontent.com/u/90219577/Hermon/CSE_Website/webdev/07/internal.png\">\n",
    "\n",
    "This is much better than the inline style as it pools all of your CSS between the <b>style</b> tags within the head section. This way if you have styling applied to all the &lt;H1&gt; selectors on a page you can change the style in one place. Although this is a much better way to use CSS the next method is by far the best option and the one you should learn.\n",
    "\n",
    "<h3>Method 3: External (link to a style sheet)</h3>\n",
    "\n",
    "The recommended method is to link to a so-called <b>external style sheet</b>. An <b>external style sheet</b> is simply a text file with the extension .css. Like any other file, you can place the style sheet on your web server. This way instead of having a long list of CSS at the top of each HTML page you can put it in a seperate file and apply it by linking to it. This is somewhat similar to including our functions library in Python.\n",
    "\n",
    "For example, let's say that your style sheet is named style.css and is located in a folder named style. The trick is to create a link from the HTML document (index.htm) to the style sheet (style.css). Such a link can be created with one line of HTML code:\n",
    "\n",
    "<img src=\"https://dl.dropboxusercontent.com/u/90219577/Hermon/CSE_Website/webdev/07/external.png\">\n",
    "\n",
    "Notice how the path to our style sheet is indicated using the attribute href. The line of code must be inserted in the header section of the HTML code i.e. between the <head> and </head> tags. This link tells the browser that it should use the layout from the CSS file when displaying the HTML file. \n",
    "\n",
    "This method is by far the best because now several HTML documents can be linked to the same style sheet. In other words, one CSS file can be used to control the layout of many HTML documents. This technique can save you a lot of work. If you, for example, would like to change the background color of a website with 100 pages, a style sheet can save you from having to manually change all 100 HTML documents. Using CSS, the change can be made in a few seconds just by changing one code in the central style sheet.\n",
    "\n"
   ]
  },
  {
   "cell_type": "markdown",
   "metadata": {},
   "source": [
    "<table width=\"100%\" border=\"1\" cellpadding=\"2\" cellspacing=\"0\">\n",
    "<tr>\n",
    "<td width=\"90\" bgcolor=\"#0000FF\" style=\"vertical-align:top\"><img src=\"https://dl.dropboxusercontent.com/u/90219577/Hermon/CSE_Website/webdev/00/WebWiz.png\" style=\"border:2px solid #021a40;\"><center><b>\n",
    "<font color=\"#FFFFFF\">Web<br>Wizardry<br>Task</font></b></center></td>\n",
    "<td valign=\"top\">\n",
    "<center><h1><u>Stylish</u></h1></center><br>\n",
    "<font size=\"+0\"><center><b>Create an external CSS file and apply it to the HTML files of your website.</b></center></font>\n",
    "</td></tr></table>"
   ]
  },
  {
   "cell_type": "markdown",
   "metadata": {},
   "source": [
    "<table width=\"100%\" cellpadding=\"2\" cellspacing=\"2\">\n",
    "<tr>\n",
    "<td style=\"border: 1px solid white;\" width=\"100px\">\n",
    "<div>\n",
    "<a href=\"http://nbviewer.ipython.org/github/CSE-UHS/Web-Development/blob/master/Chapter06.ipynb\"><img src=\"https://dl.dropboxusercontent.com/u/90219577/Hermon/CSE_Website/webdev/leftA.png\" height=\"50px\" width=\"50px\" align=\"left\"></a>\n",
    "</div>\n",
    "</td>\n",
    "<td style=\"border: 1px solid white;\">\n",
    "<div align=\"center\">\n",
    "<a href=\"http://nbviewer.ipython.org/github/CSE-UHS/Web-Development/blob/master/Chapter00.ipynb\"><h2>Table of Contents</h2></a>\n",
    "</div>\n",
    "</td>\n",
    "<td style=\"border: 1px solid white;\" width=\"100px\">\n",
    "<div>\n",
    "<a href=\"http://nbviewer.ipython.org/github/CSE-UHS/Web-Development/blob/master/Chapter08.ipynb\"><img src=\"https://dl.dropboxusercontent.com/u/90219577/Hermon/CSE_Website/webdev/rightA.png\"  height=\"50px\" width=\"50px\"  align=\"right\"></a>\n",
    "</div>\n",
    "</td>\n",
    "</tr></table>"
   ]
  }
 ],
 "metadata": {
  "kernelspec": {
   "display_name": "Python 2",
   "language": "python",
   "name": "python2"
  },
  "language_info": {
   "codemirror_mode": {
    "name": "ipython",
    "version": 2
   },
   "file_extension": ".py",
   "mimetype": "text/x-python",
   "name": "python",
   "nbconvert_exporter": "python",
   "pygments_lexer": "ipython2",
   "version": "2.7.10"
  }
 },
 "nbformat": 4,
 "nbformat_minor": 0
}
